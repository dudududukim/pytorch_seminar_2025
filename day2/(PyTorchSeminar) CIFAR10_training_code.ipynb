{
 "cells": [
  {
   "cell_type": "markdown",
   "id": "b9837fff",
   "metadata": {},
   "source": [
    "# CIFAR-10 Dataset Training Practice\n",
    "📅 2025.05.21\n",
    "\n",
    "---\n",
    "\n",
    "**copyright © Duhyeon Kim**  \n",
    "*Co-written by ChatGPT & Perplexity & Grok3*  \n",
    "\n"
   ]
  },
  {
   "cell_type": "markdown",
   "id": "cb814a77",
   "metadata": {
    "vscode": {
     "languageId": "plaintext"
    }
   },
   "source": [
    "# PART 1: CIFAR-10 Dataset\n",
    "\n",
    "## 1.1 CIFAR-10 dataset download\n",
    "\n",
    "to download CIFAR10 datset using torchvision, first install the torchvision packages\n"
   ]
  },
  {
   "cell_type": "code",
   "execution_count": null,
   "id": "76f80904",
   "metadata": {},
   "outputs": [],
   "source": [
    "# if your kernel does not have torch and torchvision installed, uncomment the following line\n",
    "# !pip install torchvision"
   ]
  },
  {
   "cell_type": "code",
   "execution_count": null,
   "id": "d7fd4de0",
   "metadata": {},
   "outputs": [],
   "source": [
    "import torchvision\n",
    "\n",
    "trainset = torchvision.datasets.CIFAR10(root='./data', train=True, download=True)\n",
    "print(type(trainset))"
   ]
  },
  {
   "cell_type": "markdown",
   "id": "5e1378fc",
   "metadata": {},
   "source": [
    "## 1.2 CIFAR-10 dataset analysis\n",
    "\n",
    "analyzing the total image num, classes etc"
   ]
  },
  {
   "cell_type": "code",
   "execution_count": null,
   "id": "b831ab77",
   "metadata": {},
   "outputs": [],
   "source": [
    "print(\"학습 데이터 크기:\", len(trainset))       # __len__\n",
    "print(trainset[0])\n",
    "print(\"이미지 shape:\", trainset[0][0].size)\n",
    "print(\"이미지 channel:\", trainset[0][0].mode)\n",
    "print(\"이미지 type:\", type(trainset[0][0]))         # to process image in pytorch, PIL.Image.Image should be changed to torch.Tensor\n",
    "print(\"라벨 예시:\", trainset[0][1])\n",
    "print(\"라벨 종류:\", trainset.classes)               # classes variable is defined inside torchvision.datasets.CIFAR10 class"
   ]
  },
  {
   "cell_type": "markdown",
   "id": "d592164a",
   "metadata": {},
   "source": [
    "- `torchvision.datasets.CIFAR10` inherits from the `torch.utils.data.Dataset` class.\n",
    "\n",
    "- So we can use `__len__()` / `__getitem__()` that we have seen in the lecture"
   ]
  },
  {
   "cell_type": "code",
   "execution_count": null,
   "id": "445a2694",
   "metadata": {},
   "outputs": [],
   "source": [
    "import matplotlib.pyplot as plt\n",
    "\n",
    "len(trainset)\n",
    "plt.imshow(trainset[8][0])\n",
    "plt.title(trainset.classes[trainset[8][1]])"
   ]
  },
  {
   "cell_type": "markdown",
   "id": "7a260269",
   "metadata": {},
   "source": [
    "## 1.3 Saving CIFAR-10 images locally\n",
    "\n",
    "to practice on real data folder format, supposing you have your own data in ./data folder"
   ]
  },
  {
   "cell_type": "code",
   "execution_count": null,
   "id": "bc8a0871",
   "metadata": {},
   "outputs": [],
   "source": [
    "from PIL import Image\n",
    "import os\n",
    "from tqdm import tqdm\n",
    "\n",
    "# CIFAR-10 dataset load : we have already downloaded the dataset, so we set download=False\n",
    "train_dataset = torchvision.datasets.CIFAR10(root='./data', train=True, download=False)\n",
    "test_dataset = torchvision.datasets.CIFAR10(root='./data', train=False, download=False)\n",
    "\n",
    "# directory to save images\n",
    "save_root = './cifar10_images/train'\n",
    "os.makedirs(save_root, exist_ok=True)\n",
    "\n",
    "# for training dataset\n",
    "for idx, (img, label) in enumerate(tqdm(train_dataset)):\n",
    "    class_name = train_dataset.classes[label]\n",
    "    class_dir = os.path.join(save_root, class_name)\n",
    "    os.makedirs(class_dir, exist_ok=True)\n",
    "    file_path = os.path.join(class_dir, f'{idx}.png')\n",
    "    if os.path.exists(file_path):\n",
    "        continue\n",
    "    img.save(file_path)\n",
    "\n",
    "# for test dataset\n",
    "for idx, (img, label) in enumerate(tqdm(test_dataset)):\n",
    "    class_name = test_dataset.classes[label]\n",
    "    class_dir = os.path.join('./cifar10_images/test', class_name)\n",
    "    os.makedirs(class_dir, exist_ok=True)\n",
    "    file_path = os.path.join(class_dir, f'{idx}.png')\n",
    "    if os.path.exists(file_path):\n",
    "        continue\n",
    "    img.save(file_path)"
   ]
  },
  {
   "cell_type": "markdown",
   "id": "82f2d059",
   "metadata": {},
   "source": [
    "# PART 2: Simplest Training Code\n",
    "\n",
    "📝 using the code that appeared in the lecture silde.\n",
    "\n",
    "- dataset & dataloader\n",
    "- model def (simple cnn & mlp)\n",
    "- loss function (cross Entropy)\n",
    "- optimizer (SGD)"
   ]
  },
  {
   "cell_type": "markdown",
   "id": "5f73c5c9",
   "metadata": {},
   "source": [
    "## 2.1 `Seed` set\n",
    "\n",
    "`Reproducibility` is extremely important in machine learning experiments. \n",
    "\n",
    "When running the same code, `obtaining identical results` provides the following benefits:\n",
    "\n",
    "- Fair comparison between baseline and improved models\n",
    "\n",
    "- Scientific credibility for research and publications\n",
    "\n",
    "- Debugging ease when issues arise during development"
   ]
  },
  {
   "cell_type": "markdown",
   "id": "101879e1",
   "metadata": {},
   "source": [
    "> but in jupyter notebook, you should also set the random seed for the notebook (i'm just showing that you can set the seed for reproducibility)"
   ]
  },
  {
   "cell_type": "code",
   "execution_count": null,
   "id": "332e08ca",
   "metadata": {},
   "outputs": [],
   "source": [
    "import torch\n",
    "import random\n",
    "import numpy as np\n",
    "\n",
    "seed = 42\n",
    "# Python, NumPy, PyTorch -> set random seed\n",
    "random.seed(seed)\n",
    "np.random.seed(seed)\n",
    "torch.manual_seed(seed)"
   ]
  },
  {
   "cell_type": "markdown",
   "id": "78a17146",
   "metadata": {},
   "source": [
    "## 2.2 Simple Custom `Dataset`\n",
    "\n",
    "(Korean)\n",
    "- 상식적으로 데이터셋 클래스를 지정한다 -> 데이터의 위치를 알아야하고, `idx`로 접근은 해야되기 때문에 해당 이미지들의 경로를 담을 변수가 필요 (이미지를 담아놓으면 메모리 낭비임)\n",
    "- 이때, 경로에 접근해야되기 때문에 폴더의 구조와 특성을 잘 파악해서, 폴더와 이미지만을 가지고 label와 image를 return할 수 있는 `__getitem__` 을 설정해야됨\n",
    "\n",
    "(English)\n",
    "- Typically, you define a custom dataset class, which needs to know the location of the data and must support access by index (`idx`). Instead of loading all images into memory (which is wasteful), you store only the file paths.\n",
    "- To do this, you analyze the folder structure and image files, then implement `__getitem__` so that it returns the image and its label using only the folder and file information."
   ]
  },
  {
   "cell_type": "code",
   "execution_count": null,
   "id": "8520eace",
   "metadata": {},
   "outputs": [],
   "source": [
    "from torch.utils.data import Dataset, DataLoader\n",
    "import os\n",
    "\n",
    "# /Users/kimduhyeon/Desktop/HandS_CV_seminar/day2/cifar10_images\n",
    "\n",
    "class CustomDataset(Dataset):           # any name you want to call (here. CustomDataset)\n",
    "    def __init__(self, root):\n",
    "        self.files = os.listdir(root)\n",
    "        self.root = root\n",
    "\n",
    "    def __len__(self):\n",
    "        return len(self.files)\n",
    "\n",
    "    def __getitem__(self, idx):\n",
    "        path = os.path.join(self.root, self.files[idx])\n",
    "        x = open(path, 'rb').read()  # replace with actual processing\n",
    "        return x\n",
    "\n",
    "# where we have saved the images\n",
    "train_root = './cifar10_images/train'\n",
    "test_root = './cifar10_images/test'\n",
    "\n",
    "train_dataset = CustomDataset(root=train_root)          # typically, we use CustomDataset(train_root) w/o the root argument\n",
    "test_dataset = CustomDataset(root=test_root)\n",
    "\n",
    "train_loader = DataLoader(train_dataset, batch_size=32, shuffle=True)\n",
    "test_loader = DataLoader(test_dataset, batch_size=32, shuffle=True)"
   ]
  },
  {
   "cell_type": "code",
   "execution_count": null,
   "id": "4fceee42",
   "metadata": {},
   "outputs": [],
   "source": [
    "train_dataset[3]"
   ]
  },
  {
   "cell_type": "markdown",
   "id": "12778c46",
   "metadata": {},
   "source": [
    "### Beep!!! wrong\n",
    "\n",
    "> cifar10_images folder contains the label folder and the images inside that folder.\n",
    "\n",
    "self.files = os.listdir(root) just took the class_name folder, not the files\n"
   ]
  },
  {
   "cell_type": "code",
   "execution_count": null,
   "id": "6f870251",
   "metadata": {},
   "outputs": [],
   "source": [
    "train_dataset.files"
   ]
  },
  {
   "cell_type": "markdown",
   "id": "c219bb4b",
   "metadata": {},
   "source": [
    "### So, we need to recursively excess the folder to get the image path.\n",
    "\n",
    "> CIFAR-10 class_to_idx info.\n",
    "\n",
    "{'airplane': 0, 'automobile': 1, 'bird': 2, 'cat': 3, 'deer': 4, 'dog': 5, 'frog': 6, 'horse': 7, 'ship': 8, 'truck': 9}"
   ]
  },
  {
   "cell_type": "code",
   "execution_count": 38,
   "id": "c819b757",
   "metadata": {},
   "outputs": [],
   "source": [
    "from torch.utils.data import Dataset, DataLoader\n",
    "import os\n",
    "from PIL import Image\n",
    "import torchvision.transforms as transforms\n",
    "\n",
    "class CustomDataset(Dataset):\n",
    "    def __init__(self, root, transform=None):\n",
    "        self.root = root\n",
    "        self.transform = transform\n",
    "        \n",
    "        self.samples = []\n",
    "        self.class_to_idx = {}\n",
    "        self.idx_to_class = {}\n",
    "\n",
    "        # first, collect all class names and their indices\n",
    "        classes = sorted(os.listdir(root))\n",
    "\n",
    "        self.class_to_idx = {cls_name: idx for idx, cls_name in enumerate(classes)}\n",
    "        self.idx_to_class = {idx: cls_name for cls_name, idx in self.class_to_idx.items()}\n",
    "\n",
    "        # then, collect all image paths and their corresponding labels with repeating the class folders\n",
    "        for cls_name in classes:\n",
    "            cls_folder = os.path.join(root, cls_name)\n",
    "            for fname in os.listdir(cls_folder):\n",
    "                if fname.lower().endswith(('.png', '.jpg', '.jpeg')):\n",
    "                    path = os.path.join(cls_folder, fname)\n",
    "                    self.samples.append((path, self.class_to_idx[cls_name]))        # adding image path and label here!\n",
    "\n",
    "    def __len__(self):\n",
    "        return len(self.samples)\n",
    "\n",
    "    def __getitem__(self, idx):\n",
    "        path, label = self.samples[idx]\n",
    "        img = Image.open(path)          # now we open the image file using PIL\n",
    "        if self.transform:\n",
    "            img = self.transform(img)           # transforming PIL image to torch.Tensor\n",
    "        return img, label"
   ]
  },
  {
   "cell_type": "code",
   "execution_count": 43,
   "id": "e69999f7",
   "metadata": {},
   "outputs": [],
   "source": [
    "import torchvision.transforms as transforms\n",
    "\n",
    "transform = transforms.Compose([\n",
    "    transforms.ToTensor()\n",
    "])\n",
    "\n",
    "train_root = './cifar10_images/train'\n",
    "test_root = './cifar10_images/test'\n",
    "\n",
    "train_dataset = CustomDataset(train_root, transform=transform)\n",
    "test_dataset = CustomDataset(test_root, transform=transform)\n",
    "\n",
    "train_loader = DataLoader(train_dataset, batch_size=32, shuffle=True)\n",
    "test_loader = DataLoader(test_dataset, batch_size=32, shuffle=True)"
   ]
  },
  {
   "cell_type": "markdown",
   "id": "44cb96ea",
   "metadata": {},
   "source": [
    "### Why using .permute(1, 2, 0)\n",
    "\n",
    ">plt.imshow only supports image with (w,h,c) -> channel to the last\n",
    "\n",
    "- permute : swapping the axes of the tensor\n",
    "- cpu : move the tensor to CPU\n",
    "- numpy : convert the tensor to numpy array (formally, it is a tensor, not a numpy array)"
   ]
  },
  {
   "cell_type": "code",
   "execution_count": 44,
   "id": "e4300976",
   "metadata": {},
   "outputs": [
    {
     "name": "stdout",
     "output_type": "stream",
     "text": [
      "(tensor([[[0.0706, 0.1255, 0.1686,  ..., 0.2471, 0.1765, 0.1451],\n",
      "         [0.0784, 0.1176, 0.1765,  ..., 0.2275, 0.1647, 0.0784],\n",
      "         [0.0510, 0.0745, 0.1529,  ..., 0.2157, 0.1451, 0.0588],\n",
      "         ...,\n",
      "         [0.1059, 0.1843, 0.2039,  ..., 0.1373, 0.1451, 0.1137],\n",
      "         [0.0980, 0.1255, 0.1373,  ..., 0.0863, 0.1255, 0.0941],\n",
      "         [0.0078, 0.0118, 0.0078,  ..., 0.1098, 0.1098, 0.0824]],\n",
      "\n",
      "        [[0.1176, 0.1686, 0.2118,  ..., 0.3176, 0.2706, 0.2392],\n",
      "         [0.1255, 0.1569, 0.2196,  ..., 0.3020, 0.2667, 0.1843],\n",
      "         [0.0980, 0.1137, 0.1961,  ..., 0.2902, 0.2471, 0.1686],\n",
      "         ...,\n",
      "         [0.1176, 0.2118, 0.2314,  ..., 0.1922, 0.2078, 0.1765],\n",
      "         [0.1137, 0.1451, 0.1608,  ..., 0.1373, 0.1843, 0.1490],\n",
      "         [0.0196, 0.0196, 0.0157,  ..., 0.1608, 0.1608, 0.1294]],\n",
      "\n",
      "        [[0.1922, 0.2157, 0.2196,  ..., 0.3294, 0.2863, 0.2627],\n",
      "         [0.2000, 0.2118, 0.2392,  ..., 0.3098, 0.3020, 0.2314],\n",
      "         [0.1765, 0.1765, 0.2275,  ..., 0.2980, 0.2824, 0.2196],\n",
      "         ...,\n",
      "         [0.1176, 0.1569, 0.1647,  ..., 0.1490, 0.1569, 0.1294],\n",
      "         [0.1137, 0.1020, 0.1059,  ..., 0.1098, 0.1451, 0.1137],\n",
      "         [0.0392, 0.0471, 0.0588,  ..., 0.1333, 0.1333, 0.1059]]]), 0)\n"
     ]
    }
   ],
   "source": [
    "print(train_dataset[3])"
   ]
  },
  {
   "cell_type": "code",
   "execution_count": 48,
   "id": "a146d953",
   "metadata": {},
   "outputs": [
    {
     "data": {
      "text/plain": [
       "'airplane'"
      ]
     },
     "execution_count": 48,
     "metadata": {},
     "output_type": "execute_result"
    },
    {
     "data": {
      "image/png": "[encoded data removed]",
      "text/plain": [
       "<Figure size 640x480 with 1 Axes>"
      ]
     },
     "metadata": {},
     "output_type": "display_data"
    }
   ],
   "source": [
    "plt.imshow(train_dataset[3][0].permute(1, 2, 0))         # train_dataset[3] returns (image, label)\n",
    "train_dataset.idx_to_class[0]"
   ]
  },
  {
   "cell_type": "markdown",
   "id": "7ad7e5d1",
   "metadata": {},
   "source": [
    "## 2.3 Simple Model (CNN + MLP)\n",
    "\n",
    "> with simple CNNs and MLPs with non-linear activation functions"
   ]
  },
  {
   "cell_type": "code",
   "execution_count": null,
   "id": "783cd8c9",
   "metadata": {},
   "outputs": [],
   "source": [
    "import torch.nn as nn\n",
    "import torch.nn.functional as F\n",
    "\n",
    "class CustomModel(nn.Module):\n",
    "    def __init__(self):\n",
    "        super(CustomModel, self).__init__()\n",
    "        self.conv1 = nn.Conv2d(in_channels=3, out_channels=16, kernel_size=3, stride=1, padding=1)\n",
    "        self.pool = nn.MaxPool2d(kernel_size=2, stride=2, padding=0)\n",
    "        self.fc1 = nn.Linear(16 * 16 * 16, 10)  # 16(out_channel) * 16(width) * 16(height)\n",
    "\n",
    "    def forward(self, x):\n",
    "        x = self.pool(F.relu(self.conv1(x)))    # relut activation function : x = max(0, x)\n",
    "        x = x.view(-1, 16 * 16 * 16)\n",
    "        # x = nn.Flatten()(x)\n",
    "        x = self.fc1(x)\n",
    "        return x"
   ]
  },
  {
   "cell_type": "markdown",
   "id": "6d268745",
   "metadata": {},
   "source": [
    "### forward pass example"
   ]
  },
  {
   "cell_type": "code",
   "execution_count": 50,
   "id": "af82701e",
   "metadata": {},
   "outputs": [
    {
     "name": "stdout",
     "output_type": "stream",
     "text": [
      "CustomModel(\n",
      "  (conv1): Conv2d(3, 16, kernel_size=(3, 3), stride=(1, 1), padding=(1, 1))\n",
      "  (pool): MaxPool2d(kernel_size=2, stride=2, padding=0, dilation=1, ceil_mode=False)\n",
      "  (fc1): Linear(in_features=4096, out_features=10, bias=True)\n",
      ")\n"
     ]
    }
   ],
   "source": [
    "classifer = CustomModel()\n",
    "print(classifer)"
   ]
  },
  {
   "cell_type": "code",
   "execution_count": null,
   "id": "4b4a4c54",
   "metadata": {},
   "outputs": [
    {
     "name": "stdout",
     "output_type": "stream",
     "text": [
      "tensor([[-0.0873,  0.0800, -0.0156, -0.0531,  0.0327,  0.0537,  0.1139,  0.0055,\n",
      "          0.1018,  0.0316]], grad_fn=<AddmmBackward0>)\n"
     ]
    }
   ],
   "source": [
    "tmp_output = classifer(train_dataset[3][0].unsqueeze(0))  # (c, h, w) -> (1, c, h, w)\n",
    "print(tmp_output)"
   ]
  },
  {
   "cell_type": "code",
   "execution_count": 55,
   "id": "633c69db",
   "metadata": {},
   "outputs": [
    {
     "name": "stdout",
     "output_type": "stream",
     "text": [
      "\n",
      "====== Model Output Info ======\n",
      "Shape           : torch.Size([1, 10])\n",
      "Softmax Prob.   :\n",
      "tensor([[0.0891, 0.1053, 0.0957, 0.0922, 0.1004, 0.1026, 0.1089, 0.0978, 0.1076,\n",
      "         0.1003]], grad_fn=<SoftmaxBackward0>)\n",
      "\n",
      "Predicted idex : 6\n",
      "\n",
      "Predicted Class : frog\n",
      "Real label      : airplane\n",
      "==============================\n",
      "\n"
     ]
    }
   ],
   "source": [
    "def pretty_print_output(tensor, label = None):\n",
    "    probs = F.softmax(tensor, dim=1)\n",
    "    predicted_idx = probs.argmax(dim=1).item()\n",
    "    print(\"\\n====== Model Output Info ======\")\n",
    "    print(f\"Shape           : {tensor.shape}\")\n",
    "    print(f\"Softmax Prob.   :\\n{probs}\")\n",
    "    print(f\"\\nPredicted idex : {predicted_idx}\")\n",
    "    print(f\"\\nPredicted Class : {train_dataset.idx_to_class[predicted_idx]}\")\n",
    "    print(f\"Real label      : {label}\")\n",
    "    print(\"=\" * 30 + \"\\n\")\n",
    "\n",
    "pretty_print_output(tmp_output, train_dataset.idx_to_class[train_dataset[3][1]])"
   ]
  },
  {
   "cell_type": "markdown",
   "id": "832401ff",
   "metadata": {},
   "source": [
    "## 2.4 Loss function\n",
    "\n",
    "- while we uses labeled data and classifier, cross entropy loss is used. <br>\n",
    "`nn.CrossEntropyLoss`\n",
    "- and the optimizer is SGD (Stochastic Gradient Descent) without momentum. (simplest form)\n",
    "`torch.optim.SGD`"
   ]
  },
  {
   "cell_type": "code",
   "execution_count": 54,
   "id": "a650f3d2",
   "metadata": {},
   "outputs": [],
   "source": [
    "import torch\n",
    "\n",
    "criterion = nn.CrossEntropyLoss()"
   ]
  },
  {
   "cell_type": "code",
   "execution_count": 56,
   "id": "b150cfb0",
   "metadata": {},
   "outputs": [
    {
     "name": "stdout",
     "output_type": "stream",
     "text": [
      "Loss: 2.4181013107299805\n"
     ]
    }
   ],
   "source": [
    "loss = criterion(tmp_output, torch.tensor([train_dataset[3][1]]))           # train_dataset[3][1] = 6\n",
    "print(f\"Loss: {loss.item()}\")           # .item() returns the value of a tensor as a standard Python number"
   ]
  },
  {
   "cell_type": "markdown",
   "id": "8f4d6ac1",
   "metadata": {},
   "source": [
    "## 2.5 Optimizer (steps)\n",
    "0. loss calculation\n",
    "1. `optimizer.zero_grad()`               # zero the gradient buffers\n",
    "2. `loss.backward()`                  # backpropagation\n",
    "3. `optimizer.step()`                 # update the weights"
   ]
  },
  {
   "cell_type": "code",
   "execution_count": 57,
   "id": "d743ac00",
   "metadata": {},
   "outputs": [
    {
     "name": "stdout",
     "output_type": "stream",
     "text": [
      "\n",
      "[After optimizer.zero_grad()] Parameter name: conv1.weight\n",
      "  shape: torch.Size([16, 3, 3, 3])\n",
      "  data (first 5 elements): tensor([ 0.1471,  0.1597, -0.0451,  0.1768, -0.0422])\n",
      "  grad (first 5 elements): None\n",
      "\n",
      "[After loss.backward()] Parameter name: conv1.weight\n",
      "  shape: torch.Size([16, 3, 3, 3])\n",
      "  data (first 5 elements): tensor([ 0.1471,  0.1597, -0.0451,  0.1768, -0.0422])\n",
      "  grad (first 5 elements): tensor([0.0546, 0.0687, 0.0394, 0.0591, 0.0750])\n",
      "\n",
      "[After optimizer.step()] Parameter name: conv1.weight\n",
      "  shape: torch.Size([16, 3, 3, 3])\n",
      "  data (first 5 elements): tensor([ 0.1466,  0.1590, -0.0455,  0.1762, -0.0429])\n",
      "  grad (first 5 elements): tensor([0.0546, 0.0687, 0.0394, 0.0591, 0.0750])\n"
     ]
    }
   ],
   "source": [
    "optimizer = torch.optim.SGD(classifer.parameters(), lr=0.01, momentum=0)\n",
    "name, param = next(iter(classifer.named_parameters()))          # named_parameters() returns an iterator of (name, parameter) tuples\n",
    "\n",
    "def print_param_info(stage, param, name):\n",
    "    print(f\"\\n[{stage}] Parameter name: {name}\")\n",
    "    print(f\"  shape: {param.shape}\")\n",
    "    print(f\"  data (first 5 elements): {param.data.view(-1)[:5]}\")\n",
    "    print(f\"  grad (first 5 elements): {param.grad.view(-1)[:5] if param.grad is not None else None}\")\n",
    "\n",
    "# 1. optimizer.zero_grad()로 grad 초기화\n",
    "optimizer.zero_grad()\n",
    "print_param_info(\"After optimizer.zero_grad()\", param, name)\n",
    "\n",
    "# 2. loss.backward()로 gradient 계산\n",
    "loss.backward()\n",
    "print_param_info(\"After loss.backward()\", param, name)\n",
    "\n",
    "# 3. optimizer.step()으로 파라미터 업데이트\n",
    "optimizer.step()\n",
    "print_param_info(\"After optimizer.step()\", param, name)"
   ]
  },
  {
   "cell_type": "markdown",
   "id": "8c09509c",
   "metadata": {},
   "source": [
    "# Part3. full training code\n",
    "\n",
    "1. Dataset\n",
    "2. DataLooader\n",
    "3. Model\n",
    "4. Loss function\n",
    "5. Optimizer\n",
    "6. Training loop"
   ]
  },
  {
   "cell_type": "code",
   "execution_count": 58,
   "id": "6a3ce7c5",
   "metadata": {},
   "outputs": [
    {
     "name": "stdout",
     "output_type": "stream",
     "text": [
      "using device: mps\n",
      "Epoch [1/50], Loss: 2.1481\n",
      "Epoch [2/50], Loss: 2.0700\n",
      "Epoch [3/50], Loss: 1.9120\n",
      "Epoch [4/50], Loss: 1.9082\n",
      "Epoch [5/50], Loss: 1.9154\n",
      "Epoch [6/50], Loss: 1.8623\n",
      "Epoch [7/50], Loss: 1.7970\n",
      "Epoch [8/50], Loss: 1.8253\n",
      "Epoch [9/50], Loss: 1.7278\n",
      "Epoch [10/50], Loss: 1.7938\n",
      "Epoch [11/50], Loss: 1.7120\n",
      "Epoch [12/50], Loss: 1.6844\n",
      "Epoch [13/50], Loss: 1.7434\n",
      "Epoch [14/50], Loss: 1.7048\n",
      "Epoch [15/50], Loss: 1.6256\n",
      "Epoch [16/50], Loss: 1.6541\n",
      "Epoch [17/50], Loss: 1.5802\n",
      "Epoch [18/50], Loss: 1.5613\n",
      "Epoch [19/50], Loss: 1.5321\n",
      "Epoch [20/50], Loss: 1.5614\n",
      "Epoch [21/50], Loss: 1.5780\n",
      "Epoch [22/50], Loss: 1.4910\n",
      "Epoch [23/50], Loss: 1.4798\n",
      "Epoch [24/50], Loss: 1.4882\n",
      "Epoch [25/50], Loss: 1.4881\n",
      "Epoch [26/50], Loss: 1.4250\n",
      "Epoch [27/50], Loss: 1.4392\n",
      "Epoch [28/50], Loss: 1.4607\n",
      "Epoch [29/50], Loss: 1.3977\n",
      "Epoch [30/50], Loss: 1.3918\n",
      "Epoch [31/50], Loss: 1.3859\n",
      "Epoch [32/50], Loss: 1.3979\n",
      "Epoch [33/50], Loss: 1.3549\n",
      "Epoch [34/50], Loss: 1.3550\n",
      "Epoch [35/50], Loss: 1.3425\n",
      "Epoch [36/50], Loss: 1.3560\n",
      "Epoch [37/50], Loss: 1.3403\n",
      "Epoch [38/50], Loss: 1.3158\n",
      "Epoch [39/50], Loss: 1.3193\n",
      "Epoch [40/50], Loss: 1.2934\n",
      "Epoch [41/50], Loss: 1.2644\n",
      "Epoch [42/50], Loss: 1.3036\n",
      "Epoch [43/50], Loss: 1.2310\n",
      "Epoch [44/50], Loss: 1.2320\n",
      "Epoch [45/50], Loss: 1.3289\n",
      "Epoch [46/50], Loss: 1.2447\n",
      "Epoch [47/50], Loss: 1.3352\n",
      "Epoch [48/50], Loss: 1.2728\n",
      "Epoch [49/50], Loss: 1.3067\n",
      "Epoch [50/50], Loss: 1.2532\n"
     ]
    }
   ],
   "source": [
    "import torch\n",
    "import torchvision.transforms as transforms\n",
    "import random\n",
    "import numpy as np\n",
    "from torch.utils.data import Dataset, DataLoader\n",
    "import torch.nn as nn\n",
    "import torch.nn.functional as F\n",
    "import os\n",
    "from PIL import Image\n",
    "\n",
    "# ═════════════════════════════════════════════════════════════════════════════\n",
    "# 🎯 RANDOM SEED CONFIGURATION\n",
    "# ═════════════════════════════════════════════════════════════════════════════\n",
    "\n",
    "seed = 42\n",
    "random.seed(seed)\n",
    "np.random.seed(seed)\n",
    "torch.manual_seed(seed)\n",
    "\n",
    "# device = 'cuda' if torch.cuda.is_available() else 'cpu'\n",
    "device = torch.accelerator.current_accelerator().type if torch.accelerator.is_available() else \"cpu\"        # device=\"mps\" for MacOS, \"cuda\" for GPU, \"cpu\" for CPU\n",
    "print(\"using device:\", device)\n",
    "\n",
    "# ═════════════════════════════════════════════════════════════════════════════\n",
    "# 🎯 DATASET AND DATALOADER\n",
    "# ═════════════════════════════════════════════════════════════════════════════\n",
    "\n",
    "class CustomDataset(Dataset):\n",
    "    def __init__(self, root, transform=None):\n",
    "        self.root = root\n",
    "        self.transform = transform\n",
    "        \n",
    "        self.samples = []\n",
    "        self.class_to_idx = {}\n",
    "        self.idx_to_class = {}\n",
    "\n",
    "        # first, collect all class names and their indices\n",
    "        classes = sorted(os.listdir(root))\n",
    "        self.class_to_idx = {cls_name: idx for idx, cls_name in enumerate(classes)}\n",
    "        self.idx_to_class = {idx: cls_name for cls_name, idx in self.class_to_idx.items()} \n",
    "\n",
    "        # then, collect all image paths and their corresponding labels with repeating the class folders\n",
    "        for cls_name in classes:\n",
    "            cls_folder = os.path.join(root, cls_name)\n",
    "            for fname in os.listdir(cls_folder):\n",
    "                if fname.lower().endswith(('.png', '.jpg', '.jpeg')):\n",
    "                    path = os.path.join(cls_folder, fname)\n",
    "                    self.samples.append((path, self.class_to_idx[cls_name]))        # adding image path and label here!\n",
    "\n",
    "    def __len__(self):\n",
    "        return len(self.samples)\n",
    "\n",
    "    def __getitem__(self, idx):\n",
    "        path, label = self.samples[idx]\n",
    "        img = Image.open(path)          # now we open the image file using PIL\n",
    "        if self.transform:\n",
    "            img = self.transform(img)           # transforming PIL image to torch.Tensor\n",
    "        return img, label\n",
    "\n",
    "train_root = './cifar10_images/train'\n",
    "test_root = './cifar10_images/test'\n",
    "\n",
    "train_transform = transforms.Compose([\n",
    "    transforms.ToTensor()\n",
    "])\n",
    "test_transform = transforms.Compose([\n",
    "    transforms.ToTensor()\n",
    "])\n",
    "\n",
    "train_dataset = CustomDataset(train_root, transform=train_transform)\n",
    "test_dataset = CustomDataset(test_root, transform=test_transform)\n",
    "\n",
    "#dataloader\n",
    "train_loader = DataLoader(train_dataset, batch_size=1024, shuffle=True)\n",
    "test_loader = DataLoader(test_dataset, batch_size=1024, shuffle=True)\n",
    "\n",
    "# ═════════════════════════════════════════════════════════════════════════════\n",
    "# 🏗️ MODEL ARCHITECTURE\n",
    "# ═════════════════════════════════════════════════════════════════════════════\n",
    "\n",
    "class CustomModel(nn.Module):\n",
    "    def __init__(self):\n",
    "        super(CustomModel, self).__init__()\n",
    "        self.conv1 = nn.Conv2d(in_channels=3, out_channels=16, kernel_size=3, stride=1, padding=1)\n",
    "        self.pool = nn.MaxPool2d(kernel_size=2, stride=2, padding=0)\n",
    "        self.fc1 = nn.Linear(16 * 16 * 16, 10)  # 16(out_channel) * 16(width) * 16(height)\n",
    "\n",
    "    def forward(self, x):\n",
    "        x = self.pool(F.relu(self.conv1(x)))    # relut activation function : x = max(0, x)\n",
    "        x = x.view(-1, 16 * 16 * 16)\n",
    "        x = self.fc1(x)\n",
    "        return x\n",
    "\n",
    "# ═════════════════════════════════════════════════════════════════════════════\n",
    "# 📊 MODEL TRAINING\n",
    "# ═════════════════════════════════════════════════════════════════════════════\n",
    "\n",
    "classifier = CustomModel().to(device)\n",
    "\n",
    "# training loop \n",
    "total_epochs = 50\n",
    "\n",
    "criterion = nn.CrossEntropyLoss().to(device)\n",
    "optimizer = torch.optim.SGD(classifier.parameters(), lr=0.03, momentum=0)\n",
    "\n",
    "for epoch in range(total_epochs):\n",
    "    for i, (images, labels) in enumerate(train_loader):             # enumerate returns both index(i) and value( (images, labels) )\n",
    "        optimizer.zero_grad()\n",
    "        \n",
    "        images = images.to(device)\n",
    "        labels = labels.to(device)\n",
    "\n",
    "        outputs = classifier(images)\n",
    "        loss = criterion(outputs, labels)\n",
    "        loss.backward()\n",
    "        optimizer.step()\n",
    "\n",
    "    print(f\"Epoch [{epoch + 1}/{total_epochs}], Loss: {loss.item():.4f}\")"
   ]
  },
  {
   "cell_type": "markdown",
   "id": "8dcfed80",
   "metadata": {},
   "source": [
    "## 3.1 Test Accuarcy on Test dataset\n",
    "\n",
    "> using `test` dataset and test_dataloader evaluate\n",
    "> test_dataset conatains 10,000 images"
   ]
  },
  {
   "cell_type": "code",
   "execution_count": 59,
   "id": "5549dd89",
   "metadata": {},
   "outputs": [
    {
     "name": "stdout",
     "output_type": "stream",
     "text": [
      "Test Accuracy: 54.32%\n"
     ]
    }
   ],
   "source": [
    "classifier.eval()\n",
    "correct = 0\n",
    "total = 0\n",
    "\n",
    "with torch.no_grad():\n",
    "    for images, labels in test_loader:\n",
    "        images = images.to(device)\n",
    "        labels = labels.to(device)\n",
    "        \n",
    "        outputs = classifier(images)\n",
    "        _, predicted = torch.max(outputs.data, 1)\n",
    "        total += labels.size(0)\n",
    "        correct += (predicted == labels).sum().item()\n",
    "        \n",
    "accuracy = 100 * correct / total\n",
    "print(f\"Test Accuracy: {accuracy:.2f}%\")\n"
   ]
  },
  {
   "cell_type": "markdown",
   "id": "5db7d81c",
   "metadata": {},
   "source": [
    "# Part4. Improving Model performance\n",
    "\n",
    "### 1. 🏗️ Deeper Model Architecture\n",
    "   - Add more convolutional layers\n",
    "   - Implement batch normalization\n",
    "   - Include dropout for regularization\n",
    "\n",
    "### 2. 📊 Data Augmentation\n",
    "   - Random horizontal flip\n",
    "   - Random crop with padding\n",
    "   - Normalization techniques\n",
    "\n",
    "### 3. ⚡ Optimizer Optimization\n",
    "   - Switch from SGD to Adam"
   ]
  },
  {
   "cell_type": "code",
   "execution_count": null,
   "id": "515de714",
   "metadata": {},
   "outputs": [
    {
     "name": "stdout",
     "output_type": "stream",
     "text": [
      "using device: mps\n",
      "Epoch [1/50]  Train Loss: 1.4933\n",
      "Epoch [2/50]  Train Loss: 1.1571\n",
      "Epoch [3/50]  Train Loss: 1.0317\n",
      "Epoch [4/50]  Train Loss: 0.9551\n",
      "Epoch [5/50]  Train Loss: 0.8964\n",
      "Epoch [6/50]  Train Loss: 0.8598\n",
      "Epoch [7/50]  Train Loss: 0.8247\n",
      "Epoch [8/50]  Train Loss: 0.7926\n",
      "Epoch [9/50]  Train Loss: 0.7715\n",
      "Epoch [10/50]  Train Loss: 0.7417\n",
      "Epoch [11/50]  Train Loss: 0.7281\n",
      "Epoch [12/50]  Train Loss: 0.7019\n",
      "Epoch [13/50]  Train Loss: 0.6876\n",
      "Epoch [14/50]  Train Loss: 0.6724\n",
      "Epoch [15/50]  Train Loss: 0.6604\n",
      "Epoch [16/50]  Train Loss: 0.6458\n",
      "Epoch [17/50]  Train Loss: 0.6251\n",
      "Epoch [18/50]  Train Loss: 0.6218\n",
      "Epoch [19/50]  Train Loss: 0.6080\n",
      "Epoch [20/50]  Train Loss: 0.5992\n",
      "Epoch [21/50]  Train Loss: 0.5902\n",
      "Epoch [22/50]  Train Loss: 0.5781\n",
      "Epoch [23/50]  Train Loss: 0.5743\n",
      "Epoch [24/50]  Train Loss: 0.5630\n",
      "Epoch [25/50]  Train Loss: 0.5567\n",
      "Epoch [26/50]  Train Loss: 0.5523\n",
      "Epoch [27/50]  Train Loss: 0.5456\n",
      "Epoch [28/50]  Train Loss: 0.5415\n",
      "Epoch [29/50]  Train Loss: 0.5356\n",
      "Epoch [30/50]  Train Loss: 0.5338\n",
      "Epoch [31/50]  Train Loss: 0.5193\n",
      "Epoch [32/50]  Train Loss: 0.5177\n",
      "Epoch [33/50]  Train Loss: 0.5138\n",
      "Epoch [34/50]  Train Loss: 0.5063\n",
      "Epoch [35/50]  Train Loss: 0.5072\n",
      "Epoch [36/50]  Train Loss: 0.5005\n",
      "Epoch [37/50]  Train Loss: 0.5011\n",
      "Epoch [38/50]  Train Loss: 0.4950\n",
      "Epoch [39/50]  Train Loss: 0.4879\n",
      "Epoch [40/50]  Train Loss: 0.4899\n",
      "Epoch [41/50]  Train Loss: 0.4853\n",
      "Epoch [42/50]  Train Loss: 0.4839\n",
      "Epoch [43/50]  Train Loss: 0.4802\n",
      "Epoch [44/50]  Train Loss: 0.4736\n",
      "Epoch [45/50]  Train Loss: 0.4717\n",
      "Epoch [46/50]  Train Loss: 0.4700\n",
      "Epoch [47/50]  Train Loss: 0.4683\n",
      "Epoch [48/50]  Train Loss: 0.4640\n",
      "Epoch [49/50]  Train Loss: 0.4655\n",
      "Epoch [50/50]  Train Loss: 0.4669\n"
     ]
    },
    {
     "ename": "NameError",
     "evalue": "name 'plt' is not defined",
     "output_type": "error",
     "traceback": [
      "\u001b[0;31m---------------------------------------------------------------------------\u001b[0m",
      "\u001b[0;31mNameError\u001b[0m                                 Traceback (most recent call last)",
      "Cell \u001b[0;32mIn[1], line 162\u001b[0m\n\u001b[1;32m    158\u001b[0m     train_losses\u001b[38;5;241m.\u001b[39mappend(avg_loss)\n\u001b[1;32m    160\u001b[0m     \u001b[38;5;28mprint\u001b[39m(\u001b[38;5;124mf\u001b[39m\u001b[38;5;124m\"\u001b[39m\u001b[38;5;124mEpoch [\u001b[39m\u001b[38;5;132;01m{\u001b[39;00mepoch\u001b[38;5;250m \u001b[39m\u001b[38;5;241m+\u001b[39m\u001b[38;5;250m \u001b[39m\u001b[38;5;241m1\u001b[39m\u001b[38;5;132;01m}\u001b[39;00m\u001b[38;5;124m/\u001b[39m\u001b[38;5;132;01m{\u001b[39;00mtotal_epochs\u001b[38;5;132;01m}\u001b[39;00m\u001b[38;5;124m]  Train Loss: \u001b[39m\u001b[38;5;132;01m{\u001b[39;00mavg_loss\u001b[38;5;132;01m:\u001b[39;00m\u001b[38;5;124m.4f\u001b[39m\u001b[38;5;132;01m}\u001b[39;00m\u001b[38;5;124m\"\u001b[39m)\n\u001b[0;32m--> 162\u001b[0m \u001b[43mplt\u001b[49m\u001b[38;5;241m.\u001b[39mplot(train_losses, label\u001b[38;5;241m=\u001b[39m\u001b[38;5;124m'\u001b[39m\u001b[38;5;124mTrain Loss\u001b[39m\u001b[38;5;124m'\u001b[39m)\n\u001b[1;32m    163\u001b[0m plt\u001b[38;5;241m.\u001b[39mxlabel(\u001b[38;5;124m'\u001b[39m\u001b[38;5;124mEpoch\u001b[39m\u001b[38;5;124m'\u001b[39m)\n\u001b[1;32m    164\u001b[0m plt\u001b[38;5;241m.\u001b[39mylabel(\u001b[38;5;124m'\u001b[39m\u001b[38;5;124mLoss\u001b[39m\u001b[38;5;124m'\u001b[39m)\n",
      "\u001b[0;31mNameError\u001b[0m: name 'plt' is not defined"
     ]
    }
   ],
   "source": [
    "import torch\n",
    "import torchvision.transforms as transforms\n",
    "import random\n",
    "import numpy as np\n",
    "from torch.utils.data import Dataset, DataLoader\n",
    "import torch.nn as nn\n",
    "import torch.nn.functional as F\n",
    "import os\n",
    "from PIL import Image\n",
    "\n",
    "# ═════════════════════════════════════════════════════════════════════════════\n",
    "# 🎯 RANDOM SEED CONFIGURATION\n",
    "# ═════════════════════════════════════════════════════════════════════════════\n",
    "\n",
    "seed = 42\n",
    "random.seed(seed)\n",
    "np.random.seed(seed)\n",
    "torch.manual_seed(seed)\n",
    "\n",
    "# device = 'cuda' if torch.cuda.is_available() else 'cpu'\n",
    "device = torch.accelerator.current_accelerator().type if torch.accelerator.is_available() else \"cpu\"        # device=\"mps\" for MacOS, \"cuda\" for GPU, \"cpu\" for CPU\n",
    "print(\"using device:\", device)\n",
    "\n",
    "# ═════════════════════════════════════════════════════════════════════════════\n",
    "# 🎯 DATASET AND DATALOADER\n",
    "# ═════════════════════════════════════════════════════════════════════════════\n",
    "\n",
    "class CustomDataset(Dataset):\n",
    "    def __init__(self, root, transform=None):\n",
    "        self.root = root\n",
    "        self.transform = transform\n",
    "        \n",
    "        self.samples = []\n",
    "        self.class_to_idx = {}\n",
    "        self.idx_to_class = {}\n",
    "\n",
    "        # first, collect all class names and their indices\n",
    "        classes = sorted(os.listdir(root))\n",
    "        self.class_to_idx = {cls_name: idx for idx, cls_name in enumerate(classes)}\n",
    "        self.idx_to_class = {idx: cls_name for cls_name, idx in self.class_to_idx.items()} \n",
    "\n",
    "        # then, collect all image paths and their corresponding labels with repeating the class folders\n",
    "        for cls_name in classes:\n",
    "            cls_folder = os.path.join(root, cls_name)\n",
    "            for fname in os.listdir(cls_folder):\n",
    "                if fname.lower().endswith(('.png', '.jpg', '.jpeg')):\n",
    "                    path = os.path.join(cls_folder, fname)\n",
    "                    self.samples.append((path, self.class_to_idx[cls_name]))        # adding image path and label here!\n",
    "\n",
    "    def __len__(self):\n",
    "        return len(self.samples)\n",
    "\n",
    "    def __getitem__(self, idx):\n",
    "        path, label = self.samples[idx]\n",
    "        img = Image.open(path)          # now we open the image file using PIL\n",
    "        if self.transform:\n",
    "            img = self.transform(img)           # transforming PIL image to torch.Tensor\n",
    "        return img, label\n",
    "\n",
    "train_root = './cifar10_images/train'\n",
    "test_root = './cifar10_images/test'\n",
    "\n",
    "# MODIFIED: Enhanced data augmentation techniques and added normalization\n",
    "train_transform = transforms.Compose([\n",
    "    transforms.RandomHorizontalFlip(p=0.5),\n",
    "    transforms.RandomCrop(32, padding=4),  # MODIFIED: Added random crop\n",
    "    transforms.ToTensor(),\n",
    "    transforms.Normalize((0.4914, 0.4822, 0.4465), (0.2023, 0.1994, 0.2010))  # MODIFIED: cifar10 standard normalization\n",
    "])\n",
    "\n",
    "test_transform = transforms.Compose([\n",
    "    transforms.ToTensor(),\n",
    "    transforms.Normalize((0.4914, 0.4822, 0.4465), (0.2023, 0.1994, 0.2010))  # MODIFIED: Added normalization (same as train, cause model is trained with this normalization)\n",
    "])\n",
    "\n",
    "train_dataset = CustomDataset(train_root, transform=train_transform)\n",
    "test_dataset = CustomDataset(test_root, transform=test_transform)\n",
    "\n",
    "train_loader = DataLoader(train_dataset, batch_size=128, shuffle=True)\n",
    "test_loader = DataLoader(test_dataset, batch_size=1024, shuffle=True)\n",
    "\n",
    "# ═════════════════════════════════════════════════════════════════════════════\n",
    "# 🏗️ MODEL ARCHITECTURE\n",
    "# ═════════════════════════════════════════════════════════════════════════════\n",
    "\n",
    "class CustomModel_v2(nn.Module):\n",
    "    def __init__(self, num_classes=10):  # MODIFIED: Made number of classes as parameter\n",
    "        super(CustomModel_v2, self).__init__()\n",
    "        \n",
    "        # MODIFIED: Improved with deeper network architecture\n",
    "        self.conv1 = nn.Conv2d(3, 32, kernel_size=3, padding=1)\n",
    "        self.bn1 = nn.BatchNorm2d(32)  # MODIFIED: Added Batch Normalization\n",
    "\n",
    "        self.conv2 = nn.Conv2d(32, 64, kernel_size=3, padding=1)\n",
    "        self.bn2 = nn.BatchNorm2d(64)  # MODIFIED: Added Batch Normalization\n",
    "        \n",
    "        # MODIFIED: Additional convolutional layer\n",
    "        self.conv3 = nn.Conv2d(64, 128, kernel_size=3, padding=1)\n",
    "        self.bn3 = nn.BatchNorm2d(128)\n",
    "        \n",
    "        self.pool = nn.MaxPool2d(2, 2)\n",
    "        \n",
    "        # MODIFIED: Adjusted dropout rate and applied to multiple locations\n",
    "        self.dropout1 = nn.Dropout(0.3)\n",
    "        self.dropout2 = nn.Dropout(0.3)\n",
    "        \n",
    "        # MODIFIED: Increased fully connected layer size\n",
    "        self.fc1 = nn.Linear(128 * 4 * 4, 512)  # 32x32 -> 16x16 -> 8x8 -> 4x4\n",
    "        self.fc2 = nn.Linear(512, 256)\n",
    "        self.fc3 = nn.Linear(256, num_classes)\n",
    "\n",
    "    def forward(self, x):\n",
    "        # MODIFIED: Improved forward pass with Batch Normalization\n",
    "        x = self.pool(F.relu(self.bn1(self.conv1(x))))  # 32x32 -> 16x16\n",
    "\n",
    "        x = self.pool(F.relu(self.bn2(self.conv2(x))))  # 16x16 -> 8x8\n",
    "        x = self.pool(F.relu(self.bn3(self.conv3(x))))  # 8x8 -> 4x4\n",
    "        \n",
    "        x = self.dropout1(x)\n",
    "        x = x.view(-1, 128 * 4 * 4)\n",
    "        \n",
    "        x = F.relu(self.fc1(x))\n",
    "        x = self.dropout2(x)\n",
    "        x = F.relu(self.fc2(x))\n",
    "        x = self.fc3(x)\n",
    "        return x\n",
    "\n",
    "# MODIFIED: Calculate number of classes\n",
    "num_classes = len(train_dataset.class_to_idx)\n",
    "model = CustomModel_v2(num_classes=num_classes).to(device)          # naming `model` is proper than `classifier` for clarity\n",
    "\n",
    "total_epochs = 50\n",
    "criterion = nn.CrossEntropyLoss().to(device)\n",
    "\n",
    "# ‼️ optimizer modi SGD to Adam for better convergence\n",
    "optimizer = torch.optim.Adam(model.parameters(), lr=0.001, weight_decay=1e-4)\n",
    "\n",
    "train_losses = []  # MODIFIED: List to store training losses\n",
    "\n",
    "for epoch in range(total_epochs):\n",
    "    model.train()\n",
    "    # MODIFIED: added running loss for each epoch\n",
    "    running_loss = 0.0\n",
    "    for i, (images, labels) in enumerate(train_loader):             # enumerate returns both index(i) and value( (images, labels) )\n",
    "        optimizer.zero_grad()\n",
    "        \n",
    "        images = images.to(device)\n",
    "        labels = labels.to(device)\n",
    "\n",
    "        outputs = model(images)\n",
    "        loss = criterion(outputs, labels)\n",
    "        loss.backward()\n",
    "        optimizer.step()\n",
    "\n",
    "        running_loss += loss.item()\n",
    "\n",
    "    avg_loss = running_loss / len(train_loader)\n",
    "    train_losses.append(avg_loss)\n",
    "\n",
    "    print(f\"Epoch [{epoch + 1}/{total_epochs}]  Train Loss: {avg_loss:.4f}\")"
   ]
  },
  {
   "cell_type": "code",
   "execution_count": 2,
   "id": "60809bd4",
   "metadata": {},
   "outputs": [
    {
     "data": {
      "image/png": "[encoded data removed]",
      "text/plain": [
       "<Figure size 640x480 with 1 Axes>"
      ]
     },
     "metadata": {},
     "output_type": "display_data"
    }
   ],
   "source": [
    "import matplotlib.pyplot as plt\n",
    "\n",
    "plt.plot(train_losses, label='Train Loss')\n",
    "plt.xlabel('Epoch')\n",
    "plt.ylabel('Loss')\n",
    "plt.title('Training Loss Curve')\n",
    "plt.legend()\n",
    "plt.show()"
   ]
  },
  {
   "cell_type": "code",
   "execution_count": 3,
   "id": "6b4282fd",
   "metadata": {},
   "outputs": [
    {
     "name": "stdout",
     "output_type": "stream",
     "text": [
      "Test Accuracy: 83.47%\n"
     ]
    }
   ],
   "source": [
    "model.eval()\n",
    "\n",
    "correct = 0\n",
    "total = 0\n",
    "\n",
    "with torch.no_grad():\n",
    "    for images, labels in test_loader:\n",
    "        images = images.to(device)\n",
    "        labels = labels.to(device)\n",
    "        \n",
    "        outputs = model(images)\n",
    "        _, predicted = torch.max(outputs.data, 1)\n",
    "        total += labels.size(0)\n",
    "        correct += (predicted == labels).sum().item()\n",
    "        \n",
    "accuracy = 100 * correct / total\n",
    "print(f\"Test Accuracy: {accuracy:.2f}%\")"
   ]
  },
  {
   "cell_type": "markdown",
   "id": "2c130d17",
   "metadata": {},
   "source": [
    "## 4.2 checkpoint"
   ]
  },
  {
   "cell_type": "markdown",
   "id": "fcf31924",
   "metadata": {},
   "source": [
    "> saving the model"
   ]
  },
  {
   "cell_type": "code",
   "execution_count": 4,
   "id": "617e659a",
   "metadata": {},
   "outputs": [],
   "source": [
    "torch.save(model.state_dict(), 'model_checkpoint.pth')"
   ]
  },
  {
   "cell_type": "markdown",
   "id": "5884f098",
   "metadata": {},
   "source": [
    "> loading the model"
   ]
  },
  {
   "cell_type": "code",
   "execution_count": 11,
   "id": "316efa69",
   "metadata": {},
   "outputs": [
    {
     "data": {
      "text/plain": [
       "<All keys matched successfully>"
      ]
     },
     "execution_count": 11,
     "metadata": {},
     "output_type": "execute_result"
    }
   ],
   "source": [
    "model_loaded = CustomModel_v2(num_classes=num_classes).to(device)  # create a new instance of the model\n",
    "checkpoint = torch.load('model_checkpoint.pth')\n",
    "# print(checkpoint)\n",
    "model_loaded.load_state_dict(checkpoint)"
   ]
  },
  {
   "cell_type": "markdown",
   "id": "e0289768",
   "metadata": {},
   "source": [
    "> onnx form saving\n",
    "\n",
    "you can visualize in the [Netron](https://netron.app/)"
   ]
  },
  {
   "cell_type": "code",
   "execution_count": 9,
   "id": "e33d498b",
   "metadata": {},
   "outputs": [],
   "source": [
    "dummy_input = torch.randn(1, 3, 32, 32).to(device)  # 입력 크기와 맞춰서 설정\n",
    "torch.onnx.export(model, dummy_input, 'model_checkpoint.onnx')"
   ]
  },
  {
   "cell_type": "markdown",
   "id": "9554ed38",
   "metadata": {
    "vscode": {
     "languageId": "markdown"
    }
   },
   "source": [
    "# Part5. (Day3) Practical Tools in Code"
   ]
  },
  {
   "cell_type": "markdown",
   "id": "699c089c",
   "metadata": {},
   "source": [
    "## 5.1 tqdm + compute_effi + scheduler + optimizer"
   ]
  },
  {
   "cell_type": "code",
   "execution_count": 22,
   "id": "4e14c26c",
   "metadata": {},
   "outputs": [
    {
     "name": "stdout",
     "output_type": "stream",
     "text": [
      "using device: mps\n"
     ]
    },
    {
     "name": "stderr",
     "output_type": "stream",
     "text": [
      "100%|█████████▉| 1562/1563 [00:41<00:00, 36.70it/s, Loss=0.8897, compute effi.=95.13%]"
     ]
    },
    {
     "name": "stdout",
     "output_type": "stream",
     "text": [
      "Epoch [1/50]  Train Loss: 1.5042  Avg Compute Efficiency: 47.06%\n"
     ]
    },
    {
     "name": "stderr",
     "output_type": "stream",
     "text": [
      "\n",
      "100%|██████████| 1563/1563 [00:41<00:00, 37.77it/s, Loss=0.8897, compute effi.=95.13%]\n",
      "\n",
      "\u001b[A\n",
      "\u001b[A\n",
      "\u001b[A\n",
      "\u001b[A\n",
      "\u001b[A\n",
      "\u001b[A\n",
      "\u001b[A\n",
      "\u001b[A\n",
      "\u001b[A\n",
      "\u001b[A\n",
      "\u001b[A\n",
      "\u001b[A\n",
      "\u001b[A\n",
      "\u001b[A\n",
      "\u001b[A\n",
      "\u001b[A\n",
      "\u001b[A\n",
      "\u001b[A\n",
      "\u001b[A\n",
      "\u001b[A\n",
      "\u001b[A\n",
      "\u001b[A\n",
      "\u001b[A\n",
      "\u001b[A\n",
      "\u001b[A\n",
      "\u001b[A\n",
      "\u001b[A\n",
      "\u001b[A\n",
      "\u001b[A\n",
      "\u001b[A\n",
      "\u001b[A\n",
      "\u001b[A\n",
      "\u001b[A\n",
      "\u001b[A\n",
      "\u001b[A\n",
      "\u001b[A\n",
      "\u001b[A\n",
      "\u001b[A\n",
      "\u001b[A\n",
      "\u001b[A\n",
      "\u001b[A\n",
      "\u001b[A\n",
      "\u001b[A\n",
      "\u001b[A\n",
      "\u001b[A\n",
      "\u001b[A\n",
      "\u001b[A\n",
      "\u001b[A\n",
      "\u001b[A\n",
      "\u001b[A\n",
      "\u001b[A\n",
      "\u001b[A\n",
      "\u001b[A\n",
      "\u001b[A\n",
      "\u001b[A\n",
      "\u001b[A\n",
      "\u001b[A\n",
      "\u001b[A\n",
      "\u001b[A\n",
      "\u001b[A\n",
      "\u001b[A\n",
      "\u001b[A\n",
      "\u001b[A\n",
      "\u001b[A\n",
      "\u001b[A\n",
      "\u001b[A\n",
      "\u001b[A\n",
      "\u001b[A\n",
      "\u001b[A\n",
      "\u001b[A\n",
      "\u001b[A\n",
      "\u001b[A\n",
      "\u001b[A\n",
      "\u001b[A\n",
      "\u001b[A\n",
      "\u001b[A\n",
      "\u001b[A\n",
      "\u001b[A\n",
      "\u001b[A\n",
      "\u001b[A\n",
      "\u001b[A\n",
      "\u001b[A\n",
      "\u001b[A\n",
      "\u001b[A\n",
      "\u001b[A\n",
      "\u001b[A\n",
      "\u001b[A\n",
      "\u001b[A\n",
      "\u001b[A\n",
      "\u001b[A\n",
      "\u001b[A\n",
      "\u001b[A\n",
      "\u001b[A\n",
      "\u001b[A\n",
      "\u001b[A\n",
      "\u001b[A\n",
      "\u001b[A\n",
      "\u001b[A\n",
      "\u001b[A\n",
      "\u001b[A\n",
      "\u001b[A\n",
      "\u001b[A\n",
      "\u001b[A\n",
      "\u001b[A\n",
      "\u001b[A\n",
      "\u001b[A\n",
      "\u001b[A\n",
      "\u001b[A\n",
      "\u001b[A\n",
      "\u001b[A\n",
      "\u001b[A\n",
      "\u001b[A\n",
      "\u001b[A\n",
      "\u001b[A\n",
      "\u001b[A\n",
      "\u001b[A\n",
      "\u001b[A\n",
      "\u001b[A\n",
      "\u001b[A\n",
      "  6%|▌         | 96/1563 [00:02<00:44, 32.89it/s, Loss=1.2534, compute effi.=82.15%]"
     ]
    },
    {
     "name": "stdout",
     "output_type": "stream",
     "text": [
      "\n",
      "Training interrupted by user.\n"
     ]
    },
    {
     "name": "stderr",
     "output_type": "stream",
     "text": [
      "\n"
     ]
    }
   ],
   "source": [
    "import torch\n",
    "import torchvision.transforms as transforms\n",
    "import random\n",
    "import numpy as np\n",
    "from torch.utils.data import Dataset, DataLoader\n",
    "import torch.nn as nn\n",
    "import torch.nn.functional as F\n",
    "import os\n",
    "from PIL import Image\n",
    "\n",
    "from tqdm import tqdm\n",
    "import time\n",
    "\n",
    "# ═════════════════════════════════════════════════════════════════════════════\n",
    "# 🎯 RANDOM SEED CONFIGURATION\n",
    "# ═════════════════════════════════════════════════════════════════════════════\n",
    "\n",
    "seed = 42\n",
    "random.seed(seed)\n",
    "np.random.seed(seed)\n",
    "torch.manual_seed(seed)\n",
    "\n",
    "# device = 'cuda' if torch.cuda.is_available() else 'cpu'\n",
    "device = torch.accelerator.current_accelerator().type if torch.accelerator.is_available() else \"cpu\"\n",
    "print(\"using device:\", device)\n",
    "\n",
    "# ═════════════════════════════════════════════════════════════════════════════\n",
    "# 🎯 DATASET AND DATALOADER\n",
    "# ═════════════════════════════════════════════════════════════════════════════\n",
    "\n",
    "class CustomDataset(Dataset):\n",
    "    def __init__(self, root, transform=None):\n",
    "        self.root = root\n",
    "        self.transform = transform\n",
    "        \n",
    "        self.samples = []\n",
    "        self.class_to_idx = {}\n",
    "        self.idx_to_class = {}\n",
    "\n",
    "        # first, collect all class names and their indices\n",
    "        classes = sorted(os.listdir(root))\n",
    "        self.class_to_idx = {cls_name: idx for idx, cls_name in enumerate(classes)}\n",
    "        self.idx_to_class = {idx: cls_name for cls_name, idx in self.class_to_idx.items()} \n",
    "\n",
    "        # then, collect all image paths and their corresponding labels with repeating the class folders\n",
    "        for cls_name in classes:\n",
    "            cls_folder = os.path.join(root, cls_name)\n",
    "            for fname in os.listdir(cls_folder):\n",
    "                if fname.lower().endswith(('.png', '.jpg', '.jpeg')):\n",
    "                    path = os.path.join(cls_folder, fname)\n",
    "                    self.samples.append((path, self.class_to_idx[cls_name]))        # adding image path and label here!\n",
    "\n",
    "    def __len__(self):\n",
    "        return len(self.samples)\n",
    "\n",
    "    def __getitem__(self, idx):\n",
    "        path, label = self.samples[idx]\n",
    "        img = Image.open(path)          # now we open the image file using PIL\n",
    "        if self.transform:\n",
    "            img = self.transform(img)           # transforming PIL image to torch.Tensor\n",
    "        return img, label\n",
    "\n",
    "train_root = './cifar10_images/train'\n",
    "test_root = './cifar10_images/test'\n",
    "\n",
    "train_transform = transforms.Compose([\n",
    "    transforms.RandomHorizontalFlip(p=0.5),\n",
    "    transforms.RandomCrop(32, padding=4),\n",
    "    transforms.ToTensor(),\n",
    "    transforms.Normalize((0.4914, 0.4822, 0.4465), (0.2023, 0.1994, 0.2010))\n",
    "])\n",
    "\n",
    "test_transform = transforms.Compose([\n",
    "    transforms.ToTensor(),\n",
    "    transforms.Normalize((0.4914, 0.4822, 0.4465), (0.2023, 0.1994, 0.2010))\n",
    "])\n",
    "\n",
    "train_dataset = CustomDataset(train_root, transform=train_transform)\n",
    "test_dataset = CustomDataset(test_root, transform=test_transform)\n",
    "\n",
    "train_loader = DataLoader(train_dataset, batch_size=32, shuffle=True)\n",
    "test_loader = DataLoader(test_dataset, batch_size=1024, shuffle=True)\n",
    "\n",
    "# ═════════════════════════════════════════════════════════════════════════════\n",
    "# 🏗️ MODEL ARCHITECTURE\n",
    "# ═════════════════════════════════════════════════════════════════════════════\n",
    "\n",
    "class CustomModel_v2(nn.Module):\n",
    "    def __init__(self, num_classes=10):\n",
    "        super(CustomModel_v2, self).__init__()\n",
    "        \n",
    "        self.conv1 = nn.Conv2d(3, 32, kernel_size=3, padding=1)\n",
    "        self.bn1 = nn.BatchNorm2d(32)\n",
    "        \n",
    "        self.conv2 = nn.Conv2d(32, 64, kernel_size=3, padding=1)\n",
    "        self.bn2 = nn.BatchNorm2d(64)\n",
    "    \n",
    "        self.conv3 = nn.Conv2d(64, 128, kernel_size=3, padding=1)\n",
    "        self.bn3 = nn.BatchNorm2d(128)\n",
    "        \n",
    "        self.pool = nn.MaxPool2d(2, 2)\n",
    "        \n",
    "        self.dropout1 = nn.Dropout(0.3)\n",
    "        self.dropout2 = nn.Dropout(0.3)\n",
    "        \n",
    "        self.fc1 = nn.Linear(128 * 4 * 4, 512)\n",
    "        self.fc2 = nn.Linear(512, 256)\n",
    "        self.fc3 = nn.Linear(256, num_classes)\n",
    "\n",
    "    def forward(self, x):\n",
    "        x = self.pool(F.relu(self.bn1(self.conv1(x))))\n",
    "        x = self.pool(F.relu(self.bn2(self.conv2(x))))\n",
    "        x = self.pool(F.relu(self.bn3(self.conv3(x))))\n",
    "        \n",
    "        x = self.dropout1(x)\n",
    "        x = x.view(-1, 128 * 4 * 4)\n",
    "        \n",
    "        x = F.relu(self.fc1(x))\n",
    "        x = self.dropout2(x)\n",
    "        x = F.relu(self.fc2(x))\n",
    "        x = self.fc3(x)\n",
    "        return x\n",
    "\n",
    "num_classes = len(train_dataset.class_to_idx)\n",
    "model = CustomModel_v2(num_classes=num_classes).to(device)\n",
    "\n",
    "total_epochs = 50\n",
    "criterion = nn.CrossEntropyLoss().to(device)\n",
    "optimizer = torch.optim.Adam(model.parameters(), lr=0.001, weight_decay=1e-4)\n",
    "\n",
    "train_losses = []\n",
    "\n",
    "try:\n",
    "    for epoch in range(total_epochs):\n",
    "        model.train()\n",
    "        running_loss = 0.0\n",
    "        compute_effi = 0.0\n",
    "\n",
    "        load_start = time.time()\n",
    "\n",
    "        pbar = tqdm(total=len(train_loader))\n",
    "\n",
    "        for i, (images, labels) in enumerate(train_loader):\n",
    "            optimizer.zero_grad()\n",
    "            \n",
    "            images = images.to(device)\n",
    "            labels = labels.to(device)\n",
    "\n",
    "            load_time = time.time() - load_start\n",
    "            compute_start = time.time()\n",
    "\n",
    "            outputs = model(images)\n",
    "            loss = criterion(outputs, labels)\n",
    "            loss.backward()\n",
    "            optimizer.step()\n",
    "            compute_time = time.time() - compute_start\n",
    "\n",
    "            running_loss += loss.item()\n",
    "            computational_efficiency = compute_time / (load_time + compute_time)\n",
    "            compute_effi += computational_efficiency\n",
    "\n",
    "            pbar.set_postfix({\n",
    "                'Loss' : f\"{loss.item():.4f}\",\n",
    "                'compute effi.' : f\"{(computational_efficiency)*100:.2f}%\",\n",
    "            })\n",
    "            pbar.update(1)\n",
    "            load_start = time.time()\n",
    "\n",
    "        avg_loss = running_loss / len(train_loader)\n",
    "        avg_compute_effi = compute_effi / len(train_loader)\n",
    "        train_losses.append(avg_loss)\n",
    "\n",
    "        print(f\"Epoch [{epoch + 1}/{total_epochs}]  Train Loss: {avg_loss:.4f}  Avg Compute Efficiency: {avg_compute_effi*100:.2f}%\")\n",
    "    pbar.close()\n",
    "    \n",
    "except KeyboardInterrupt:\n",
    "    pbar.close()\n",
    "    print(\"\\nTraining interrupted by user.\")"
   ]
  },
  {
   "cell_type": "markdown",
   "id": "cd792619",
   "metadata": {},
   "source": [
    "## 5.2 Completed code (applied things that we have learned so far)"
   ]
  },
  {
   "cell_type": "code",
   "execution_count": 23,
   "id": "a993d915",
   "metadata": {},
   "outputs": [
    {
     "name": "stdout",
     "output_type": "stream",
     "text": [
      "using device: mps\n"
     ]
    },
    {
     "name": "stderr",
     "output_type": "stream",
     "text": [
      "Epoch[1/50]: 100%|██████████| 1407/1407 [00:23<00:00, 59.76it/s, Loss=0.6370, Compute_efficiency=1.00]\n"
     ]
    },
    {
     "name": "stdout",
     "output_type": "stream",
     "text": [
      "Train Loss: 1.5249 | Avg Computational Effi: 0.915\n"
     ]
    },
    {
     "name": "stderr",
     "output_type": "stream",
     "text": [
      "Validation [1/50]: 100%|██████████| 157/157 [00:02<00:00, 67.10it/s]\n"
     ]
    },
    {
     "name": "stdout",
     "output_type": "stream",
     "text": [
      "Val loss: 1.2616 | Accuracy(val): 54.54%\n",
      "Best model saved at epoch 1 with accuracy 54.54%\n",
      "\n",
      "\n"
     ]
    },
    {
     "name": "stderr",
     "output_type": "stream",
     "text": [
      "Epoch[2/50]: 100%|██████████| 1407/1407 [00:22<00:00, 62.12it/s, Loss=0.7729, Compute_efficiency=0.90]\n"
     ]
    },
    {
     "name": "stdout",
     "output_type": "stream",
     "text": [
      "Train Loss: 1.2068 | Avg Computational Effi: 0.921\n"
     ]
    },
    {
     "name": "stderr",
     "output_type": "stream",
     "text": [
      "Validation [2/50]: 100%|██████████| 157/157 [00:02<00:00, 64.85it/s]\n"
     ]
    },
    {
     "name": "stdout",
     "output_type": "stream",
     "text": [
      "Val loss: 1.0654 | Accuracy(val): 62.74%\n",
      "Best model saved at epoch 2 with accuracy 62.74%\n",
      "\n",
      "\n"
     ]
    },
    {
     "name": "stderr",
     "output_type": "stream",
     "text": [
      "Epoch[3/50]: 100%|██████████| 1407/1407 [00:24<00:00, 58.26it/s, Loss=0.5956, Compute_efficiency=0.93]\n"
     ]
    },
    {
     "name": "stdout",
     "output_type": "stream",
     "text": [
      "Train Loss: 1.0711 | Avg Computational Effi: 0.919\n"
     ]
    },
    {
     "name": "stderr",
     "output_type": "stream",
     "text": [
      "Validation [3/50]: 100%|██████████| 157/157 [00:02<00:00, 62.74it/s]\n"
     ]
    },
    {
     "name": "stdout",
     "output_type": "stream",
     "text": [
      "Val loss: 0.9732 | Accuracy(val): 65.08%\n",
      "Best model saved at epoch 3 with accuracy 65.08%\n",
      "\n",
      "\n"
     ]
    },
    {
     "name": "stderr",
     "output_type": "stream",
     "text": [
      "Epoch[4/50]: 100%|██████████| 1407/1407 [00:28<00:00, 50.23it/s, Loss=1.0221, Compute_efficiency=0.93]\n"
     ]
    },
    {
     "name": "stdout",
     "output_type": "stream",
     "text": [
      "Train Loss: 0.9877 | Avg Computational Effi: 0.926\n"
     ]
    },
    {
     "name": "stderr",
     "output_type": "stream",
     "text": [
      "Validation [4/50]: 100%|██████████| 157/157 [00:02<00:00, 59.77it/s]\n"
     ]
    },
    {
     "name": "stdout",
     "output_type": "stream",
     "text": [
      "Val loss: 0.9302 | Accuracy(val): 67.18%\n",
      "Best model saved at epoch 4 with accuracy 67.18%\n",
      "\n",
      "\n"
     ]
    },
    {
     "name": "stderr",
     "output_type": "stream",
     "text": [
      "Epoch[5/50]: 100%|██████████| 1407/1407 [00:37<00:00, 37.30it/s, Loss=0.8818, Compute_efficiency=0.95]\n"
     ]
    },
    {
     "name": "stdout",
     "output_type": "stream",
     "text": [
      "Train Loss: 0.9310 | Avg Computational Effi: 0.933\n"
     ]
    },
    {
     "name": "stderr",
     "output_type": "stream",
     "text": [
      "Validation [5/50]: 100%|██████████| 157/157 [00:03<00:00, 51.61it/s]\n"
     ]
    },
    {
     "name": "stdout",
     "output_type": "stream",
     "text": [
      "Val loss: 0.8672 | Accuracy(val): 70.16%\n",
      "Best model saved at epoch 5 with accuracy 70.16%\n",
      "\n",
      "\n"
     ]
    },
    {
     "name": "stderr",
     "output_type": "stream",
     "text": [
      "Epoch[6/50]: 100%|██████████| 1407/1407 [00:38<00:00, 36.71it/s, Loss=0.6606, Compute_efficiency=0.95]\n"
     ]
    },
    {
     "name": "stdout",
     "output_type": "stream",
     "text": [
      "Train Loss: 0.8785 | Avg Computational Effi: 0.938\n"
     ]
    },
    {
     "name": "stderr",
     "output_type": "stream",
     "text": [
      "Validation [6/50]: 100%|██████████| 157/157 [00:03<00:00, 50.92it/s]\n"
     ]
    },
    {
     "name": "stdout",
     "output_type": "stream",
     "text": [
      "Val loss: 0.8110 | Accuracy(val): 72.86%\n",
      "Best model saved at epoch 6 with accuracy 72.86%\n",
      "\n",
      "\n"
     ]
    },
    {
     "name": "stderr",
     "output_type": "stream",
     "text": [
      "Epoch[7/50]: 100%|██████████| 1407/1407 [00:34<00:00, 40.92it/s, Loss=0.6445, Compute_efficiency=0.96]\n"
     ]
    },
    {
     "name": "stdout",
     "output_type": "stream",
     "text": [
      "Train Loss: 0.8422 | Avg Computational Effi: 0.937\n"
     ]
    },
    {
     "name": "stderr",
     "output_type": "stream",
     "text": [
      "Validation [7/50]: 100%|██████████| 157/157 [00:03<00:00, 51.48it/s]\n"
     ]
    },
    {
     "name": "stdout",
     "output_type": "stream",
     "text": [
      "Val loss: 0.7970 | Accuracy(val): 72.66%\n",
      "\n",
      "\n"
     ]
    },
    {
     "name": "stderr",
     "output_type": "stream",
     "text": [
      "Epoch[8/50]: 100%|██████████| 1407/1407 [00:31<00:00, 44.13it/s, Loss=0.3354, Compute_efficiency=0.91]\n"
     ]
    },
    {
     "name": "stdout",
     "output_type": "stream",
     "text": [
      "Train Loss: 0.8070 | Avg Computational Effi: 0.939\n"
     ]
    },
    {
     "name": "stderr",
     "output_type": "stream",
     "text": [
      "Validation [8/50]: 100%|██████████| 157/157 [00:02<00:00, 56.40it/s]\n"
     ]
    },
    {
     "name": "stdout",
     "output_type": "stream",
     "text": [
      "Val loss: 0.7981 | Accuracy(val): 72.34%\n",
      "\n",
      "\n"
     ]
    },
    {
     "name": "stderr",
     "output_type": "stream",
     "text": [
      "Epoch[9/50]: 100%|██████████| 1407/1407 [00:31<00:00, 45.06it/s, Loss=0.8739, Compute_efficiency=0.93]\n"
     ]
    },
    {
     "name": "stdout",
     "output_type": "stream",
     "text": [
      "Train Loss: 0.7768 | Avg Computational Effi: 0.938\n"
     ]
    },
    {
     "name": "stderr",
     "output_type": "stream",
     "text": [
      "Validation [9/50]: 100%|██████████| 157/157 [00:02<00:00, 65.99it/s]\n"
     ]
    },
    {
     "name": "stdout",
     "output_type": "stream",
     "text": [
      "Val loss: 0.6948 | Accuracy(val): 76.36%\n",
      "Best model saved at epoch 9 with accuracy 76.36%\n",
      "\n",
      "\n"
     ]
    },
    {
     "name": "stderr",
     "output_type": "stream",
     "text": [
      "Epoch[10/50]: 100%|██████████| 1407/1407 [00:26<00:00, 53.47it/s, Loss=0.6147, Compute_efficiency=0.95]\n"
     ]
    },
    {
     "name": "stdout",
     "output_type": "stream",
     "text": [
      "Train Loss: 0.7579 | Avg Computational Effi: 0.940\n"
     ]
    },
    {
     "name": "stderr",
     "output_type": "stream",
     "text": [
      "Validation [10/50]: 100%|██████████| 157/157 [00:03<00:00, 41.18it/s]\n"
     ]
    },
    {
     "name": "stdout",
     "output_type": "stream",
     "text": [
      "Val loss: 0.6976 | Accuracy(val): 75.52%\n",
      "\n",
      "\n"
     ]
    },
    {
     "name": "stderr",
     "output_type": "stream",
     "text": [
      "Epoch[11/50]: 100%|██████████| 1407/1407 [00:29<00:00, 48.39it/s, Loss=1.2567, Compute_efficiency=0.96]\n"
     ]
    },
    {
     "name": "stdout",
     "output_type": "stream",
     "text": [
      "Train Loss: 0.6569 | Avg Computational Effi: 0.939\n"
     ]
    },
    {
     "name": "stderr",
     "output_type": "stream",
     "text": [
      "Validation [11/50]: 100%|██████████| 157/157 [00:02<00:00, 55.07it/s]\n"
     ]
    },
    {
     "name": "stdout",
     "output_type": "stream",
     "text": [
      "Val loss: 0.6233 | Accuracy(val): 78.44%\n",
      "Best model saved at epoch 11 with accuracy 78.44%\n",
      "\n",
      "\n"
     ]
    },
    {
     "name": "stderr",
     "output_type": "stream",
     "text": [
      "Epoch[12/50]: 100%|██████████| 1407/1407 [00:33<00:00, 41.55it/s, Loss=0.5375, Compute_efficiency=0.95]\n"
     ]
    },
    {
     "name": "stdout",
     "output_type": "stream",
     "text": [
      "Train Loss: 0.6317 | Avg Computational Effi: 0.939\n"
     ]
    },
    {
     "name": "stderr",
     "output_type": "stream",
     "text": [
      "Validation [12/50]: 100%|██████████| 157/157 [00:03<00:00, 51.08it/s]\n"
     ]
    },
    {
     "name": "stdout",
     "output_type": "stream",
     "text": [
      "Val loss: 0.6051 | Accuracy(val): 79.64%\n",
      "Best model saved at epoch 12 with accuracy 79.64%\n",
      "\n",
      "\n"
     ]
    },
    {
     "name": "stderr",
     "output_type": "stream",
     "text": [
      "Epoch[13/50]: 100%|██████████| 1407/1407 [00:32<00:00, 43.45it/s, Loss=0.4562, Compute_efficiency=0.89]\n"
     ]
    },
    {
     "name": "stdout",
     "output_type": "stream",
     "text": [
      "Train Loss: 0.6196 | Avg Computational Effi: 0.940\n"
     ]
    },
    {
     "name": "stderr",
     "output_type": "stream",
     "text": [
      "Validation [13/50]: 100%|██████████| 157/157 [00:03<00:00, 49.45it/s]\n"
     ]
    },
    {
     "name": "stdout",
     "output_type": "stream",
     "text": [
      "Val loss: 0.5897 | Accuracy(val): 79.56%\n",
      "\n",
      "\n"
     ]
    },
    {
     "name": "stderr",
     "output_type": "stream",
     "text": [
      "Epoch[14/50]: 100%|██████████| 1407/1407 [00:45<00:00, 31.21it/s, Loss=1.0351, Compute_efficiency=0.94]\n"
     ]
    },
    {
     "name": "stdout",
     "output_type": "stream",
     "text": [
      "Train Loss: 0.6064 | Avg Computational Effi: 0.937\n"
     ]
    },
    {
     "name": "stderr",
     "output_type": "stream",
     "text": [
      "Validation [14/50]: 100%|██████████| 157/157 [00:03<00:00, 40.43it/s]\n"
     ]
    },
    {
     "name": "stdout",
     "output_type": "stream",
     "text": [
      "Val loss: 0.5799 | Accuracy(val): 79.92%\n",
      "Best model saved at epoch 14 with accuracy 79.92%\n",
      "\n",
      "\n"
     ]
    },
    {
     "name": "stderr",
     "output_type": "stream",
     "text": [
      "Epoch[15/50]: 100%|██████████| 1407/1407 [00:54<00:00, 25.64it/s, Loss=0.2943, Compute_efficiency=0.96]\n"
     ]
    },
    {
     "name": "stdout",
     "output_type": "stream",
     "text": [
      "Train Loss: 0.5970 | Avg Computational Effi: 0.934\n"
     ]
    },
    {
     "name": "stderr",
     "output_type": "stream",
     "text": [
      "Validation [15/50]: 100%|██████████| 157/157 [00:03<00:00, 42.75it/s]\n"
     ]
    },
    {
     "name": "stdout",
     "output_type": "stream",
     "text": [
      "Val loss: 0.5792 | Accuracy(val): 79.90%\n",
      "\n",
      "\n"
     ]
    },
    {
     "name": "stderr",
     "output_type": "stream",
     "text": [
      "Epoch[16/50]: 100%|██████████| 1407/1407 [00:53<00:00, 26.31it/s, Loss=0.9822, Compute_efficiency=0.93]\n"
     ]
    },
    {
     "name": "stdout",
     "output_type": "stream",
     "text": [
      "Train Loss: 0.5846 | Avg Computational Effi: 0.934\n"
     ]
    },
    {
     "name": "stderr",
     "output_type": "stream",
     "text": [
      "Validation [16/50]: 100%|██████████| 157/157 [00:04<00:00, 39.11it/s]\n"
     ]
    },
    {
     "name": "stdout",
     "output_type": "stream",
     "text": [
      "Val loss: 0.5715 | Accuracy(val): 80.06%\n",
      "Best model saved at epoch 16 with accuracy 80.06%\n",
      "\n",
      "\n"
     ]
    },
    {
     "name": "stderr",
     "output_type": "stream",
     "text": [
      "Epoch[17/50]: 100%|██████████| 1407/1407 [00:53<00:00, 26.14it/s, Loss=0.8188, Compute_efficiency=0.94]\n"
     ]
    },
    {
     "name": "stdout",
     "output_type": "stream",
     "text": [
      "Train Loss: 0.5827 | Avg Computational Effi: 0.933\n"
     ]
    },
    {
     "name": "stderr",
     "output_type": "stream",
     "text": [
      "Validation [17/50]: 100%|██████████| 157/157 [00:03<00:00, 39.53it/s]\n"
     ]
    },
    {
     "name": "stdout",
     "output_type": "stream",
     "text": [
      "Val loss: 0.5619 | Accuracy(val): 81.08%\n",
      "Best model saved at epoch 17 with accuracy 81.08%\n",
      "\n",
      "\n"
     ]
    },
    {
     "name": "stderr",
     "output_type": "stream",
     "text": [
      "Epoch[18/50]: 100%|██████████| 1407/1407 [01:01<00:00, 23.05it/s, Loss=0.5504, Compute_efficiency=0.97]\n"
     ]
    },
    {
     "name": "stdout",
     "output_type": "stream",
     "text": [
      "Train Loss: 0.5726 | Avg Computational Effi: 0.936\n"
     ]
    },
    {
     "name": "stderr",
     "output_type": "stream",
     "text": [
      "Validation [18/50]: 100%|██████████| 157/157 [00:04<00:00, 39.12it/s]\n"
     ]
    },
    {
     "name": "stdout",
     "output_type": "stream",
     "text": [
      "Val loss: 0.5619 | Accuracy(val): 80.90%\n",
      "\n",
      "\n"
     ]
    },
    {
     "name": "stderr",
     "output_type": "stream",
     "text": [
      "Epoch[19/50]: 100%|██████████| 1407/1407 [00:59<00:00, 23.51it/s, Loss=1.2039, Compute_efficiency=0.95]\n"
     ]
    },
    {
     "name": "stdout",
     "output_type": "stream",
     "text": [
      "Train Loss: 0.5689 | Avg Computational Effi: 0.935\n"
     ]
    },
    {
     "name": "stderr",
     "output_type": "stream",
     "text": [
      "Validation [19/50]: 100%|██████████| 157/157 [00:03<00:00, 40.02it/s]\n"
     ]
    },
    {
     "name": "stdout",
     "output_type": "stream",
     "text": [
      "Val loss: 0.5470 | Accuracy(val): 80.92%\n",
      "\n",
      "\n"
     ]
    },
    {
     "name": "stderr",
     "output_type": "stream",
     "text": [
      "Epoch[20/50]: 100%|██████████| 1407/1407 [01:00<00:00, 23.13it/s, Loss=0.9593, Compute_efficiency=0.96]\n"
     ]
    },
    {
     "name": "stdout",
     "output_type": "stream",
     "text": [
      "Train Loss: 0.5638 | Avg Computational Effi: 0.934\n"
     ]
    },
    {
     "name": "stderr",
     "output_type": "stream",
     "text": [
      "Validation [20/50]: 100%|██████████| 157/157 [00:03<00:00, 42.91it/s]\n"
     ]
    },
    {
     "name": "stdout",
     "output_type": "stream",
     "text": [
      "Val loss: 0.5614 | Accuracy(val): 80.60%\n",
      "\n",
      "\n"
     ]
    },
    {
     "name": "stderr",
     "output_type": "stream",
     "text": [
      "Epoch[21/50]: 100%|██████████| 1407/1407 [01:05<00:00, 21.55it/s, Loss=0.4882, Compute_efficiency=0.92]\n"
     ]
    },
    {
     "name": "stdout",
     "output_type": "stream",
     "text": [
      "Train Loss: 0.5507 | Avg Computational Effi: 0.936\n"
     ]
    },
    {
     "name": "stderr",
     "output_type": "stream",
     "text": [
      "Validation [21/50]: 100%|██████████| 157/157 [00:03<00:00, 41.33it/s]\n"
     ]
    },
    {
     "name": "stdout",
     "output_type": "stream",
     "text": [
      "Val loss: 0.5487 | Accuracy(val): 81.24%\n",
      "Best model saved at epoch 21 with accuracy 81.24%\n",
      "\n",
      "\n"
     ]
    },
    {
     "name": "stderr",
     "output_type": "stream",
     "text": [
      "Epoch[22/50]: 100%|██████████| 1407/1407 [01:06<00:00, 21.03it/s, Loss=0.4643, Compute_efficiency=0.97]\n"
     ]
    },
    {
     "name": "stdout",
     "output_type": "stream",
     "text": [
      "Train Loss: 0.5457 | Avg Computational Effi: 0.937\n"
     ]
    },
    {
     "name": "stderr",
     "output_type": "stream",
     "text": [
      "Validation [22/50]: 100%|██████████| 157/157 [00:03<00:00, 44.75it/s]\n"
     ]
    },
    {
     "name": "stdout",
     "output_type": "stream",
     "text": [
      "Val loss: 0.5463 | Accuracy(val): 81.94%\n",
      "Best model saved at epoch 22 with accuracy 81.94%\n",
      "\n",
      "\n"
     ]
    },
    {
     "name": "stderr",
     "output_type": "stream",
     "text": [
      "Epoch[23/50]: 100%|██████████| 1407/1407 [01:06<00:00, 21.19it/s, Loss=0.6494, Compute_efficiency=0.89]\n"
     ]
    },
    {
     "name": "stdout",
     "output_type": "stream",
     "text": [
      "Train Loss: 0.5482 | Avg Computational Effi: 0.936\n"
     ]
    },
    {
     "name": "stderr",
     "output_type": "stream",
     "text": [
      "Validation [23/50]: 100%|██████████| 157/157 [00:03<00:00, 41.97it/s]\n"
     ]
    },
    {
     "name": "stdout",
     "output_type": "stream",
     "text": [
      "Val loss: 0.5525 | Accuracy(val): 80.94%\n",
      "\n",
      "\n"
     ]
    },
    {
     "name": "stderr",
     "output_type": "stream",
     "text": [
      "Epoch[24/50]: 100%|██████████| 1407/1407 [01:03<00:00, 22.03it/s, Loss=1.0424, Compute_efficiency=0.86]\n"
     ]
    },
    {
     "name": "stdout",
     "output_type": "stream",
     "text": [
      "Train Loss: 0.5457 | Avg Computational Effi: 0.938\n"
     ]
    },
    {
     "name": "stderr",
     "output_type": "stream",
     "text": [
      "Validation [24/50]: 100%|██████████| 157/157 [00:03<00:00, 41.70it/s]\n"
     ]
    },
    {
     "name": "stdout",
     "output_type": "stream",
     "text": [
      "Val loss: 0.5499 | Accuracy(val): 81.66%\n",
      "\n",
      "\n"
     ]
    },
    {
     "name": "stderr",
     "output_type": "stream",
     "text": [
      "Epoch[25/50]: 100%|██████████| 1407/1407 [01:06<00:00, 21.11it/s, Loss=0.6259, Compute_efficiency=0.97]\n"
     ]
    },
    {
     "name": "stdout",
     "output_type": "stream",
     "text": [
      "Train Loss: 0.5476 | Avg Computational Effi: 0.939\n"
     ]
    },
    {
     "name": "stderr",
     "output_type": "stream",
     "text": [
      "Validation [25/50]: 100%|██████████| 157/157 [00:04<00:00, 37.86it/s]\n"
     ]
    },
    {
     "name": "stdout",
     "output_type": "stream",
     "text": [
      "Val loss: 0.5464 | Accuracy(val): 81.24%\n",
      "\n",
      "\n"
     ]
    },
    {
     "name": "stderr",
     "output_type": "stream",
     "text": [
      "Epoch[26/50]:  75%|███████▍  | 1053/1407 [00:53<00:17, 19.77it/s, Loss=0.4590, Compute_efficiency=0.99]"
     ]
    },
    {
     "name": "stdout",
     "output_type": "stream",
     "text": [
      "\n",
      "Training interrupted by user.\n"
     ]
    },
    {
     "name": "stderr",
     "output_type": "stream",
     "text": [
      "\n"
     ]
    }
   ],
   "source": [
    "import torch\n",
    "import torchvision.transforms as transforms\n",
    "import random\n",
    "import numpy as np\n",
    "from torch.utils.data import Dataset, DataLoader\n",
    "import torch.nn as nn\n",
    "import torch.nn.functional as F\n",
    "import os\n",
    "from PIL import Image\n",
    "\n",
    "# [NEW] imports for 5.1\n",
    "from tqdm import tqdm                   # for tqdm\n",
    "import time                             # for computation efficiency\n",
    "from torch.utils.data import Subset     # for Subset\n",
    "from prefetch_generator import BackgroundGenerator\n",
    "\n",
    "# ═════════════════════════════════════════════════════════════════════════════\n",
    "# 🎯 RANDOM SEED CONFIGURATION\n",
    "# ═════════════════════════════════════════════════════════════════════════════\n",
    "\n",
    "seed = 42\n",
    "random.seed(seed)\n",
    "np.random.seed(seed)\n",
    "torch.manual_seed(seed)\n",
    "\n",
    "# device = 'cuda' if torch.cuda.is_available() else 'cpu'\n",
    "device = torch.accelerator.current_accelerator().type if torch.accelerator.is_available() else \"cpu\"\n",
    "print(\"using device:\", device)\n",
    "\n",
    "# ═════════════════════════════════════════════════════════════════════════════\n",
    "# 🎯 DATASET AND DATALOADER\n",
    "# ═════════════════════════════════════════════════════════════════════════════\n",
    "\n",
    "class CustomDataset(Dataset):\n",
    "    def __init__(self, root, transform=None):\n",
    "        self.root = root\n",
    "        self.transform = transform\n",
    "        \n",
    "        self.samples = []\n",
    "        self.class_to_idx = {}\n",
    "        self.idx_to_class = {}\n",
    "\n",
    "        # first, collect all class names and their indices\n",
    "        classes = sorted(os.listdir(root))\n",
    "        self.class_to_idx = {cls_name: idx for idx, cls_name in enumerate(classes)}\n",
    "        self.idx_to_class = {idx: cls_name for cls_name, idx in self.class_to_idx.items()} \n",
    "\n",
    "        # then, collect all image paths and their corresponding labels with repeating the class folders\n",
    "        for cls_name in classes:\n",
    "            cls_folder = os.path.join(root, cls_name)\n",
    "            for fname in os.listdir(cls_folder):\n",
    "                if fname.lower().endswith(('.png', '.jpg', '.jpeg')):\n",
    "                    path = os.path.join(cls_folder, fname)\n",
    "                    self.samples.append((path, self.class_to_idx[cls_name]))        # adding image path and label here!\n",
    "\n",
    "    def __len__(self):\n",
    "        return len(self.samples)\n",
    "\n",
    "    def __getitem__(self, idx):\n",
    "        path, label = self.samples[idx]\n",
    "        img = Image.open(path)          # now we open the image file using PIL\n",
    "        if self.transform:\n",
    "            img = self.transform(img)           # transforming PIL image to torch.Tensor\n",
    "        return img, label\n",
    "\n",
    "train_root = './cifar10_images/train'\n",
    "test_root = './cifar10_images/test'\n",
    "\n",
    "train_transform = transforms.Compose([\n",
    "    transforms.RandomHorizontalFlip(p=0.5),\n",
    "    transforms.RandomCrop(32, padding=4),\n",
    "    transforms.ToTensor(),\n",
    "    transforms.Normalize((0.4914, 0.4822, 0.4465), (0.2023, 0.1994, 0.2010))\n",
    "])\n",
    "\n",
    "test_transform = transforms.Compose([\n",
    "    transforms.ToTensor(),\n",
    "    transforms.Normalize((0.4914, 0.4822, 0.4465), (0.2023, 0.1994, 0.2010))\n",
    "])\n",
    "\n",
    "train_dataset = CustomDataset(train_root, transform=train_transform)\n",
    "test_dataset = CustomDataset(test_root, transform=test_transform)\n",
    "\n",
    "# [NEW] Validation dataset\n",
    "num_samples = len(train_dataset)\n",
    "indices = np.arange(num_samples)\n",
    "np.random.shuffle(indices)\n",
    "\n",
    "split = int(np.floor(0.1 * num_samples))\n",
    "val_indices = indices[:split]\n",
    "train_indices = indices[split:]\n",
    "\n",
    "train_subset = Subset(train_dataset, train_indices)\n",
    "val_subset = Subset(train_dataset, val_indices)\n",
    "\n",
    "train_loader = DataLoader(train_subset, batch_size=32, shuffle=True)\n",
    "val_loader = DataLoader(val_subset, batch_size=32, shuffle=True)\n",
    "test_loader = DataLoader(test_dataset, batch_size=128, shuffle=True)\n",
    "\n",
    "# ═════════════════════════════════════════════════════════════════════════════\n",
    "# 🏗️ MODEL ARCHITECTURE\n",
    "# ═════════════════════════════════════════════════════════════════════════════\n",
    "\n",
    "class CustomModel_v2(nn.Module):\n",
    "    def __init__(self, num_classes=10):\n",
    "        super(CustomModel_v2, self).__init__()\n",
    "        \n",
    "        self.conv1 = nn.Conv2d(3, 32, kernel_size=3, padding=1)\n",
    "        self.bn1 = nn.BatchNorm2d(32)\n",
    "        \n",
    "        self.conv2 = nn.Conv2d(32, 64, kernel_size=3, padding=1)\n",
    "        self.bn2 = nn.BatchNorm2d(64)\n",
    "    \n",
    "        self.conv3 = nn.Conv2d(64, 128, kernel_size=3, padding=1)\n",
    "        self.bn3 = nn.BatchNorm2d(128)\n",
    "        \n",
    "        self.pool = nn.MaxPool2d(2, 2)\n",
    "        \n",
    "        self.dropout1 = nn.Dropout(0.3)\n",
    "        self.dropout2 = nn.Dropout(0.3)\n",
    "        \n",
    "        self.fc1 = nn.Linear(128 * 4 * 4, 512)\n",
    "        self.fc2 = nn.Linear(512, 256)\n",
    "        self.fc3 = nn.Linear(256, num_classes)\n",
    "\n",
    "    def forward(self, x):\n",
    "        x = self.pool(F.relu(self.bn1(self.conv1(x))))\n",
    "        x = self.pool(F.relu(self.bn2(self.conv2(x))))\n",
    "        x = self.pool(F.relu(self.bn3(self.conv3(x))))\n",
    "        \n",
    "        x = self.dropout1(x)\n",
    "        x = x.view(-1, 128 * 4 * 4)\n",
    "        \n",
    "        x = F.relu(self.fc1(x))\n",
    "        x = self.dropout2(x)\n",
    "        x = F.relu(self.fc2(x))\n",
    "        x = self.fc3(x)\n",
    "        return x\n",
    "\n",
    "num_classes = len(train_dataset.class_to_idx)\n",
    "model = CustomModel_v2(num_classes=num_classes).to(device)\n",
    "\n",
    "total_epochs = 50\n",
    "criterion = nn.CrossEntropyLoss().to(device)\n",
    "optimizer = torch.optim.Adam(model.parameters(), lr=0.001, weight_decay=1e-4)\n",
    "\n",
    "# [NEW] Learning rate scheduler\n",
    "scheduler = torch.optim.lr_scheduler.StepLR(optimizer, step_size=10, gamma=0.1)\n",
    "\n",
    "train_losses = []\n",
    "best_val_accuracy = 0.0\n",
    "\n",
    "try:\n",
    "    for epoch in range(total_epochs):\n",
    "        model.train()\n",
    "        running_loss = 0.0\n",
    "        compute_efficiencies = []\n",
    "\n",
    "        # [NEW] tqdm progress bar\n",
    "        pbar = tqdm(total=len(train_loader), desc=f'Epoch[{epoch + 1}/{total_epochs}]')\n",
    "\n",
    "        # [NEW] computation efficiency\n",
    "        start_time = time.time()\n",
    "\n",
    "        # [NEW] BackgroundGenerator for prefetching\n",
    "        for i, (images, labels) in enumerate(BackgroundGenerator(train_loader)):\n",
    "            optimizer.zero_grad()\n",
    "            \n",
    "            images = images.to(device)\n",
    "            labels = labels.to(device)\n",
    "\n",
    "            prepare_time = time.time() - start_time\n",
    "\n",
    "            outputs = model(images)\n",
    "            loss = criterion(outputs, labels)\n",
    "            loss.backward()\n",
    "            optimizer.step()\n",
    "            compute_time = time.time() - start_time - prepare_time\n",
    "\n",
    "            running_loss += loss.item()\n",
    "            compute_efficiency = compute_time / (prepare_time + compute_time)\n",
    "            compute_efficiencies.append(compute_efficiency)\n",
    "\n",
    "            pbar.set_postfix({\n",
    "                'Loss' : f'{loss.item():.4f}',\n",
    "                'Compute_efficiency' : f'{compute_efficiency:.2f}',\n",
    "                }\n",
    "            )\n",
    "            \n",
    "            pbar.update(1)\n",
    "\n",
    "            start_time = time.time()\n",
    "\n",
    "        pbar.close()\n",
    "\n",
    "        avg_loss = running_loss / len(train_loader)\n",
    "        train_losses.append(avg_loss)\n",
    "        average_compute_efficiency = sum(compute_efficiencies) / len(compute_efficiencies) if compute_efficiencies else 0\n",
    "\n",
    "        print(f\"Train Loss: {avg_loss:.4f} | Avg Computational Effi: {average_compute_efficiency:.3f}\")\n",
    "\n",
    "        # [NEW] Validation loop\n",
    "        model.eval()\n",
    "        val_loss = 0.0\n",
    "        correct = 0\n",
    "        total = 0\n",
    "\n",
    "        with torch.no_grad():\n",
    "            pbar = tqdm(total=len(val_loader), desc=f'Validation [{epoch + 1}/{total_epochs}]')\n",
    "            for images, labels in val_loader:\n",
    "                images = images.to(device)\n",
    "                labels = labels.to(device)\n",
    "                \n",
    "                outputs = model(images)\n",
    "                loss = criterion(outputs, labels)\n",
    "                val_loss += loss.item()\n",
    "\n",
    "                _, predicted = torch.max(outputs.data, 1)\n",
    "                total += labels.size(0)\n",
    "                correct += (predicted == labels).sum().item()\n",
    "                pbar.update(1)\n",
    "                \n",
    "        pbar.close()\n",
    "        val_loss /= len(val_loader)\n",
    "        val_accuracy = 100 * correct / total\n",
    "\n",
    "        print(f\"Val loss: {val_loss:.4f} | Accuracy(val): {val_accuracy:.2f}%\")\n",
    "    \n",
    "        # [NEW] Best model checkpoint\n",
    "        if val_accuracy > best_val_accuracy:\n",
    "            best_val_accuracy = val_accuracy\n",
    "            # pt save\n",
    "            torch.save(model.state_dict(), \"best_model.pt\")\n",
    "            # onnx export\n",
    "            dummy_input = torch.randn(1, 3, 32, 32, device=device)\n",
    "            torch.onnx.export(model, dummy_input, \"best_model.onnx\")\n",
    "            print(f\"Best model saved at epoch {epoch+1} with accuracy {best_val_accuracy:.2f}%\")\n",
    "\n",
    "        print(\"\\n\")\n",
    "\n",
    "        # [NEW] Step the learning rate scheduler\n",
    "        scheduler.step()\n",
    "        \n",
    "except KeyboardInterrupt:\n",
    "    pbar.close()\n",
    "    print(\"\\nTraining interrupted by user.\")"
   ]
  },
  {
   "cell_type": "code",
   "execution_count": null,
   "id": "6301dfc3",
   "metadata": {},
   "outputs": [],
   "source": []
  }
 ],
 "metadata": {
  "kernelspec": {
   "display_name": "d2f",
   "language": "python",
   "name": "d2f"
  },
  "language_info": {
   "codemirror_mode": {
    "name": "ipython",
    "version": 3
   },
   "file_extension": ".py",
   "mimetype": "text/x-python",
   "name": "python",
   "nbconvert_exporter": "python",
   "pygments_lexer": "ipython3",
   "version": "3.13.3"
  }
 },
 "nbformat": 4,
 "nbformat_minor": 5
}
