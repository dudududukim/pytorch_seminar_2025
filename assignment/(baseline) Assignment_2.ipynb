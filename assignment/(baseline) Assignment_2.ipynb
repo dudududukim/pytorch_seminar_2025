{
 "cells": [
  {
   "cell_type": "markdown",
   "id": "6bead347",
   "metadata": {},
   "source": [
    "# Assignment #2 Requirements 🎯\n",
    "\n",
    "**Submission:**  \n",
    "- Submit a Jupyter Notebook (`.ipynb`) file with enhanced code implementation.\n",
    "- Submit a Technical Report (`.pdf`) detailing the applied techniques.\n",
    "\n",
    "**Your Task:**  \n",
    "- Starting from your `Assignment #1 code`, enhance your model training by applying **at least three techniques** `covered in the Day 3` materials.  \n",
    "  (Examples include: data augmentation, regularization, advanced optimizers, learning rate scheduling, batch normalization, etc.)\n",
    "\n",
    "## Submission Instructions 📥\n",
    "\n",
    "You must submit the following files:\n",
    "\n",
    "- **A trained Jupyter Notebook (.ipynb) file**  \n",
    "  (The notebook should include all code, results, and clear indications of the applied techniques.)\n",
    "\n",
    "- **A technical report (.pdf) file**  \n",
    "  (The report should clearly explain which techniques you applied, why you chose them, and how they improved your model.)\n",
    "\n",
    "Please ensure all files are included in your submission so that your enhanced training process, final model, and technical understanding can be fully evaluated.\n",
    "\n",
    "**Additional Notes:**  \n",
    "- You can write your own Jupyter notebook with brand-new code.\n",
    "- Clearly comment or mark the sections where each new technique is applied.\n",
    "- After training, save a checkpoint, and include code to load the checkpoint and run inference, so that the grader can easily evaluate your model.\n",
    "\n",
    "---\n",
    "\n",
    "**Author:** Duhyeon Kim + Perplexity (GPT4.1)\n"
   ]
  },
  {
   "cell_type": "code",
   "execution_count": null,
   "id": "1bb4d811",
   "metadata": {},
   "outputs": [],
   "source": [
    "# copy assignment_1 code and start below"
   ]
  }
 ],
 "metadata": {
  "kernelspec": {
   "display_name": "d2f",
   "language": "python",
   "name": "d2f"
  },
  "language_info": {
   "name": "python",
   "version": "3.13.4"
  }
 },
 "nbformat": 4,
 "nbformat_minor": 5
}
